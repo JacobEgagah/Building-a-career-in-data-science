{
 "cells": [
  {
   "cell_type": "markdown",
   "id": "df4b53e9-89a6-4874-8306-ba7ad1201149",
   "metadata": {},
   "source": [
    "# Python Functions and Modules \n",
    "\n",
    "## Introduction to Functions\n",
    "\n",
    "**Functions** are reusable blocks of code that perform a specific task. They help organize code and avoid repetition. \n",
    " In Python, a function is defined using the `def` keyword, and it only runs when it is called. Functions improve code **readability** and **reusability**; instead of copying the same code repeatedly, you write it once as a function and call it as needed. Functions can also accept input data (parameters) and return a result. For example:\n"
   ]
  },
  {
   "cell_type": "code",
   "execution_count": 216,
   "id": "746570db-0a55-4129-bcab-855a1823044e",
   "metadata": {},
   "outputs": [
    {
     "name": "stdout",
     "output_type": "stream",
     "text": [
      "Hello, Ali!\n",
      "Hello, Zainab!\n"
     ]
    }
   ],
   "source": [
    "# Define a simple function that greets a user by name\n",
    "def greet(name):\n",
    "    print(f\"Hello, {name}!\")\n",
    "\n",
    "# Call the function with different arguments\n",
    "greet(\"Ali\")  \n",
    "greet(\"Zainab\")      \n",
    "\n",
    "#In the above code, `greet` is defined with a parameter `name`, and we call it by providing an argument in parentheses.*"
   ]
  },
  {
   "cell_type": "code",
   "execution_count": 217,
   "id": "46d9cf18-00a3-43d8-af2c-dbedc47596b7",
   "metadata": {},
   "outputs": [
    {
     "name": "stdout",
     "output_type": "stream",
     "text": [
      "Animals makes sound like, bleat!\n",
      "Animals makes sound like, caw!\n",
      "Animals makes sound like, meow!\n",
      "Animals makes sound like, neigh!\n",
      "Animals makes sound like, hoot!\n"
     ]
    }
   ],
   "source": [
    "# Define a function that writes the sounds animals make\n",
    "def animal(sound):\n",
    "    print(f\"Animals makes sound like, {sound}!\")\n",
    "\n",
    "# Calling the function with multiple sounds\n",
    "sound = (\"bleat\", \"caw\", \"meow\", \"neigh\", \"hoot\")\n",
    "\n",
    "for snd in sound:\n",
    "    animal(snd)"
   ]
  },
  {
   "cell_type": "markdown",
   "id": "0eeea281-c5e2-43f8-b48c-2c0b990d3b2e",
   "metadata": {},
   "source": [
    "- **Parameters**: Variables in the function definition (`name`).  \n",
    "- **Arguments**: Values passed to the function during a call (`\"Jay\"`). \"\"\""
   ]
  },
  {
   "cell_type": "markdown",
   "id": "dd558b1d-26ad-49e6-a861-56c096898ad3",
   "metadata": {},
   "source": [
    "Key points about functions:\n",
    "\n",
    "* **Why use functions:** They avoid repeating code and make programs easier to maintain. Functions allow us to break complex tasks into smaller steps.\n",
    "* **Defining functions:** Use `def function_name(parameters):` followed by an indented block of code.\n",
    "* **Calling functions:** Use the function name followed by parentheses, e.g. `greet(\"Alice\")`.\n",
    "* **Parameters vs. arguments:** A *parameter* is a variable in the function definition; an *argument* is the actual value passed to the function. For instance, in `def add(x): ...`, `x` is a parameter. When calling `add(5)`, the value `5` is an argument. Specifically: *“a parameter is the variable listed inside the parentheses in the function definition. An argument is the value that is sent to the function when it is called.”*.\n",
    "* **Return values:** By default, functions return `None` if there is no `return` statement. Use `return` to output a result from the function. For example, compare:"
   ]
  },
  {
   "cell_type": "code",
   "execution_count": 220,
   "id": "168b74b3-7fb6-455f-8714-dfb006054c31",
   "metadata": {},
   "outputs": [
    {
     "name": "stdout",
     "output_type": "stream",
     "text": [
      "15\n",
      "None\n"
     ]
    }
   ],
   "source": [
    "def multiply(a, b):\n",
    "    return a * b   # returns the sum of a and b\n",
    "\n",
    "def no_return(a, b):\n",
    "    product = a * b    # does not use return, so returns None by default\n",
    "\n",
    "print(multiply(3, 5))       # Outputs: 5\n",
    "print(no_return(3, 5)) # Outputs: None"
   ]
  },
  {
   "cell_type": "markdown",
   "id": "65429f84-e772-40c0-943d-44f4458f7d27",
   "metadata": {},
   "source": [
    "Each time you call `multiply(3, 5)` you get `15`, but calling `no_return(3, 5)` outputs `None` because the function didn’t explicitly return a value.\n",
    "\n",
    "## Function Variants\n",
    "\n",
    "Python functions can be written in different ways to handle flexible inputs and behaviors:\n",
    "\n",
    "### Default Arguments\n",
    "\n",
    "Default arguments are parameters that assume a default value if no argument is passed. You define them in the function signature. For example:"
   ]
  },
  {
   "cell_type": "code",
   "execution_count": 222,
   "id": "2dcc5d99-4b09-4dd8-97bc-cb2c8fd0af80",
   "metadata": {},
   "outputs": [
    {
     "name": "stdout",
     "output_type": "stream",
     "text": [
      "Hello, Jarvis!\n",
      "Hello, Guest!\n"
     ]
    }
   ],
   "source": [
    "def greet(name=\"Guest\"):\n",
    "    print(f\"Hello, {name}!\")\n",
    "\n",
    "greet(\"Jarvis\")  # Prints: Hello, Jarvis!\n",
    "greet()         # Prints: Hello, Guest! (uses default value)"
   ]
  },
  {
   "cell_type": "code",
   "execution_count": 223,
   "id": "9d9f299e-5f4b-4511-b1d9-64e9d914d683",
   "metadata": {},
   "outputs": [
    {
     "name": "stdout",
     "output_type": "stream",
     "text": [
      "The latest design in town now is, ankara!\n",
      "The latest design in town now is, cargo pants!\n",
      "The latest design in town now is, tuxedo!\n",
      "The latest design in town now is, senator!\n"
     ]
    }
   ],
   "source": [
    "def cloth(*style):\n",
    "    for x in style:\n",
    "        print(f\"The latest design in town now is, {x}!\")\n",
    "\n",
    "cloth(\"ankara\", \"cargo pants\", \"tuxedo\", \"senator\")"
   ]
  },
  {
   "cell_type": "markdown",
   "id": "fe2e351d-01dd-4f6e-9362-9aebdfe97421",
   "metadata": {},
   "source": [
    ">Here, `name=\"Guest\"` means if no name is provided, `\"Guest\"` is used by default. This makes function calls optional for that parameter.\n",
    "\n",
    "### Keyword Arguments\n",
    "\n",
    "You can call functions using keyword arguments, specifying `param=value`. The order doesn’t matter when using keywords:"
   ]
  },
  {
   "cell_type": "code",
   "execution_count": 225,
   "id": "cb5f472b-1b94-40d4-a6c2-49fc83b3e5af",
   "metadata": {},
   "outputs": [
    {
     "name": "stdout",
     "output_type": "stream",
     "text": [
      "Whiskers is a cat.\n",
      "Buddy is a dog.\n"
     ]
    }
   ],
   "source": [
    "def describe_pet(animal, name):\n",
    "    print(f\"{name} is a {animal}.\")\n",
    "\n",
    "# Call with keyword arguments (order can be swapped)\n",
    "describe_pet(animal=\"cat\", name=\"Whiskers\")  # Prints: Whiskers is a cat.\n",
    "describe_pet(name=\"Buddy\", animal=\"dog\")     # Prints: Buddy is a dog."
   ]
  },
  {
   "cell_type": "code",
   "execution_count": 226,
   "id": "bda87333-6b92-49e2-9f3e-695829cb4b8a",
   "metadata": {},
   "outputs": [
    {
     "name": "stdout",
     "output_type": "stream",
     "text": [
      "My name is Bukky, I am 28 years old and I enrolled for Data Analysis course.\n",
      "My name is Olayinka, I am 29 years old and I enrolled for Statistics course.\n",
      "My name is Adebola, I am 31 years old and I enrolled for AI & ML course.\n",
      "My name is student, I am 25 years old and I enrolled for Technology course.\n"
     ]
    }
   ],
   "source": [
    "def candidate(name= \"student\", age= 25, course= \"Technology\"):\n",
    "    print(f\"My name is {name}, I am {age} years old and I enrolled for {course} course.\")\n",
    "\n",
    "# Dictionary Unpacking: Use **info to automatically match dictionary keys with function parameters\n",
    "info = {\"name\": \"Bukky\", \"course\": \"Data Analysis\", \"age\": \"28\"}\n",
    "\n",
    "# Use dictionary unpacking (**) to pass key-value pairs as arguments\n",
    "candidate(**info)\n",
    "candidate(name=\"Olayinka\", course= \"Statistics\", age= \"29\")\n",
    "candidate(course=\"AI & ML\", age= 31, name= \"Adebola\")\n",
    "candidate()"
   ]
  },
  {
   "cell_type": "code",
   "execution_count": 227,
   "id": "1533a240-5c04-4679-8fcc-7dfdbf626cf8",
   "metadata": {},
   "outputs": [
    {
     "name": "stdout",
     "output_type": "stream",
     "text": [
      "My name is Bukky, I am 28 years old and I enrolled for Data Analysis course.\n",
      "My name is Emeka, I am 25 years old and I enrolled for Python Programming course.\n"
     ]
    }
   ],
   "source": [
    "#Handle Multiple Candidates (with loop):\n",
    "def candidate(name, age, course):\n",
    "    print(f\"My name is {name}, I am {age} years old and I enrolled for {course} course.\")\n",
    "\n",
    "# List of dictionaries\n",
    "candidates = [\n",
    "    {\"name\": \"Bukky\", \"course\": \"Data Analysis\", \"age\": \"28\"},\n",
    "    {\"name\": \"Emeka\", \"course\": \"Python Programming\", \"age\": \"25\"}\n",
    "]\n",
    "\n",
    "for person in candidates:\n",
    "    candidate(**person)"
   ]
  },
  {
   "cell_type": "markdown",
   "id": "8937cf9c-7247-461c-b1c6-e5fd83c8fe99",
   "metadata": {},
   "source": [
    "---\n",
    "\n",
    "## ✅ What are `*args` and `**kwargs`?\n",
    "\n",
    "| Term       | Stands for                  | Purpose                                                             |\n",
    "| ---------- | --------------------------- | ------------------------------------------------------------------- |\n",
    "| `*args`    | Arbitrary Arguments         | Pass **a variable number of positional arguments** (like a list)    |\n",
    "| `**kwargs` | Arbitrary Keyword Arguments | Pass **a variable number of keyword arguments** (like a dictionary) |\n",
    "\n",
    "---\n",
    "## **Key Differences**\n",
    "\n",
    "| Feature               | `*args`                          | `**kwargs`                     |\n",
    "|-----------------------|----------------------------------|---------------------------------|\n",
    "| **Type**              | Collects positional arguments    | Collects keyword arguments      |\n",
    "| **Data Structure**    | Tuple                            | Dictionary                       |\n",
    "| **Syntax**            | Single star `*`                  | Double star `**`                |\n",
    "| **Use Case**          | Unknown number of positional args| Unknown number of named args    |\n",
    "---"
   ]
  },
  {
   "cell_type": "markdown",
   "id": "2169ef3e-22d6-49d1-9b0e-5ea59c792b6b",
   "metadata": {},
   "source": [
    "## 🟦 `*args`: Variable Positional Arguments\n",
    "\n",
    "`*args` allows a function to accept **any number of positional arguments**.\n",
    "\n",
    "### 💡 Example:\n",
    "\n",
    "```python\n",
    "def greet_all(*names):\n",
    "    for name in names:\n",
    "        print(f\"Hello, {name}!\")\n",
    "\n",
    "greet_all(\"Ada\", \"Ben\", \"Chinedu\")\n",
    "```\n",
    "\n",
    "**Output:**\n",
    "\n",
    "```\n",
    "Hello, Ada!\n",
    "Hello, Ben!\n",
    "Hello, Chinedu!\n",
    "```\n",
    "\n",
    "🔍 Internally, `*args` is a **tuple** containing all passed arguments.\n",
    "\n",
    "---\n",
    "\n",
    "## 🟩 `**kwargs`: Variable Keyword Arguments\n",
    "\n",
    "`**kwargs` lets you pass **any number of named arguments** (like a dictionary).\n",
    "\n",
    "### 💡 Example:\n",
    "\n",
    "```python\n",
    "def describe_person(**info):\n",
    "    for key, value in info.items():\n",
    "        print(f\"{key.capitalize()}: {value}\")\n",
    "\n",
    "describe_person(name=\"Bukky\", age=28, course=\"Data Analysis\")\n",
    "```\n",
    "\n",
    "**Output:**\n",
    "\n",
    "```\n",
    "Name: Bukky\n",
    "Age: 28\n",
    "Course: Data Analysis\n",
    "```\n",
    "\n",
    "🔍 Internally, `**kwargs` is a **dictionary** of key-value pairs.\n",
    "\n",
    "---\n",
    "\n",
    "## 🟨 Using Both `*args` and `**kwargs` Together\n",
    "\n",
    "```python\n",
    "def show_profile(*hobbies, **details):\n",
    "    print(\"Details:\")\n",
    "    for key, val in details.items():\n",
    "        print(f\"{key}: {val}\")\n",
    "    \n",
    "    print(\"\\nHobbies:\")\n",
    "    for hobby in hobbies:\n",
    "        print(f\"- {hobby}\")\n",
    "\n",
    "show_profile(\"Reading\", \"Swimming\", name=\"Bukky\", age=28, course=\"Data Analysis\")\n",
    "```\n",
    "\n",
    "**Output:**\n",
    "\n",
    "```\n",
    "Details:\n",
    "name: Bukky\n",
    "age: 28\n",
    "course: Data Analysis\n",
    "\n",
    "Hobbies:\n",
    "- Reading\n",
    "- Swimming\n",
    "```\n",
    "\n",
    "---\n",
    "\n",
    "## ⚠️ Rules to Remember\n",
    "\n",
    "1. You can mix them, but **order matters**:\n",
    "\n",
    "   ```python\n",
    "   def func(positional, *args, keyword_only, **kwargs):\n",
    "       ...\n",
    "   ```\n",
    "2. `*args` must come before `**kwargs`.\n",
    "\n",
    "---\n",
    "\n",
    "## Bonus 💡\n",
    "\n",
    "You can **unpack arguments** when calling a function too:\n",
    "\n",
    "```python\n",
    "data = {\"name\": \"Bukky\", \"age\": 28}\n",
    "candidate_info = (\"Data Analysis\",)\n",
    "\n",
    "def student(name, age, course):\n",
    "    print(f\"{name}, age {age}, is taking {course}\")\n",
    "\n",
    "student(*data.values(), *candidate_info)  # Positional unpacking\n",
    "```\n",
    "\n",
    "---"
   ]
  },
  {
   "cell_type": "markdown",
   "id": "2fac41b9-dd17-4d5f-8cc2-10a45d72b504",
   "metadata": {},
   "source": [
    "\n",
    "Using keyword arguments improves readability and avoids confusion about parameter order. Internally, keyword arguments (`kwargs`) are often handled like a dictionary.\n",
    "\n",
    "### Variable-length Arguments (`*args` and `**kwargs`)\n",
    "\n",
    "If you want a function to accept an arbitrary number of arguments, use `*args` for a tuple of positional arguments, or `**kwargs` for a dictionary of keyword arguments:\n"
   ]
  },
  {
   "cell_type": "code",
   "execution_count": 231,
   "id": "ef1699a1-71e0-44da-a38b-7e6fe2fb6784",
   "metadata": {},
   "outputs": [
    {
     "name": "stdout",
     "output_type": "stream",
     "text": [
      "Scores: (90, 85, 100)\n"
     ]
    }
   ],
   "source": [
    "def show_scores(*scores):\n",
    "    # scores is a tuple of all passed arguments\n",
    "    print(\"Scores:\", scores)\n",
    "\n",
    "show_scores(90, 85, 100)   "
   ]
  },
  {
   "cell_type": "code",
   "execution_count": 232,
   "id": "94de65a7-b87c-4db4-88c9-6a4db2c75d67",
   "metadata": {},
   "outputs": [
    {
     "name": "stdout",
     "output_type": "stream",
     "text": [
      "6\n",
      "name: Jacob E.\n",
      "age: 30\n"
     ]
    }
   ],
   "source": [
    "def sum_all(*args):\n",
    "    return sum(args)\n",
    "\n",
    "print(sum_all(1, 2, 3))  # Output: 6\n",
    "\n",
    "def print_details(**kwargs):\n",
    "    for key, value in kwargs.items():\n",
    "        print(f\"{key}: {value}\")\n",
    "\n",
    "print_details(name=\"Jacob E.\", age=30)\n"
   ]
  },
  {
   "cell_type": "markdown",
   "id": "988cf206-11ba-43d0-8528-b6de86ef5598",
   "metadata": {},
   "source": [
    ">In the first example, `*scores` collects extra positional args into a tuple. In the second, `**info` collects keyword args into a dict. Use `*args` when you don’t know how many positional arguments might be passed, and `**kwargs` for an unknown number of named arguments.\n",
    "### Recursive Functions\n",
    "\n",
    "A **recursive function** is a function that calls itself. Recursion can simplify problems that have a natural recursive structure (like factorial or tree traversals). Every recursive function must have a *base case* to stop infinite recursion. In other words, the base case defines when the function should stop calling itself, ensuring termination. For example, computing factorial:"
   ]
  },
  {
   "cell_type": "code",
   "execution_count": 234,
   "id": "8134b022-bee4-4b34-a965-485cb466c82d",
   "metadata": {},
   "outputs": [
    {
     "name": "stdout",
     "output_type": "stream",
     "text": [
      "120\n"
     ]
    }
   ],
   "source": [
    "def factorial(n):\n",
    "    # Base case: when n <= 1, stop recursion\n",
    "    if n <= 1:\n",
    "        return 1\n",
    "    # Recursive case: n * factorial(n-1)\n",
    "    return n * factorial(n - 1)\n",
    "\n",
    "print(factorial(5))  # Outputs: 120 (5*4*3*2*1)"
   ]
  },
  {
   "cell_type": "code",
   "execution_count": 235,
   "id": "ca9d72d5-de52-4f8c-8269-db8159992044",
   "metadata": {},
   "outputs": [
    {
     "name": "stdout",
     "output_type": "stream",
     "text": [
      "120\n"
     ]
    }
   ],
   "source": [
    "def factorial(n):\n",
    "    # Base case: when n <= 1, stop recursion\n",
    "    if n <= 1:\n",
    "        return 1\n",
    "    # Recursive case: n * factorial(n-1)\n",
    "    return n * factorial(n - 1)\n",
    "\n",
    "print(factorial(5))  # Outputs: 120 (5*4*3*2*1)"
   ]
  },
  {
   "cell_type": "markdown",
   "id": "01515672-91a7-4cd0-ac90-ec3ccf38e4f7",
   "metadata": {},
   "source": [
    "Each call to `factorial(n)` waits for `factorial(n-1)` until reaching `factorial(1)`. A stack diagram (see figure below) helps illustrate how each call gets its own `n` value on the call stack.\n",
    "\n",
    "&#x20;*Figure: A stack diagram showing recursive calls of `countdown(n)`. Each call pushes a new frame with its own `n`. The base case (here `n=0`) stops further calls.* When the base case is reached, the calls unwind. Without a base case, recursion would never stop, causing a recursion error. As one expert notes, *“a function that calls itself is said to be recursive”*. Recursion is a powerful tool, but make sure to include a correct base case or the function will fail.\n",
    "\n",
    "### Anonymous Functions (`lambda`)\n",
    "\n",
    "Python supports **anonymous functions** using the `lambda` keyword. A `lambda` creates a small, unnamed function for short uses:"
   ]
  },
  {
   "cell_type": "code",
   "execution_count": 237,
   "id": "63f0633a-5c46-47dc-bf0a-f993284b9201",
   "metadata": {},
   "outputs": [
    {
     "name": "stdout",
     "output_type": "stream",
     "text": [
      "7\n",
      "[(3, 1), (2, 2), (1, 3)]\n"
     ]
    }
   ],
   "source": [
    "# A lambda that adds two numbers\n",
    "add = lambda x, y: x + y\n",
    "print(add(3, 4))  # Outputs: 7\n",
    "\n",
    "# Using lambda with sorted to sort a list of tuples by second element\n",
    "pairs = [(1, 3), (2, 2), (3, 1)]\n",
    "pairs.sort(key=lambda x: x[1])  \n",
    "print(pairs)  # Outputs: [(3, 1), (2, 2), (1, 3)]"
   ]
  },
  {
   "cell_type": "markdown",
   "id": "9480dd76-6bdc-4c6d-88e1-5582db732821",
   "metadata": {},
   "source": [
    "Lambdas are single-expression functions and useful for simple operations or callbacks (e.g., sort keys). They are equivalent to writing a regular function, but inline.\n",
    "\n",
    "## Scope and Lifetime\n",
    "\n",
    "A variable’s **scope** is the context where it is defined. In Python:\n",
    "\n",
    "* **Local scope:** Variables defined inside a function. They exist only during that function’s execution.\n",
    "* **Global scope:** Variables defined at the top level of a script/module. They exist as long as the program runs.\n",
    "* **Enclosing scope:** For nested functions, variables in the outer function but not global.\n",
    "* **Built-in scope:** Names that are always available (like `len`, `print`, etc.).\n",
    "\n",
    "For example:\n"
   ]
  },
  {
   "cell_type": "code",
   "execution_count": 239,
   "id": "27732894-584c-4a5f-a56c-fd72d8572bfd",
   "metadata": {},
   "outputs": [
    {
     "name": "stdout",
     "output_type": "stream",
     "text": [
      "Inside func, x = 5\n",
      "Outside func, x = 10\n"
     ]
    }
   ],
   "source": [
    "x = 10  # global variable\n",
    "\n",
    "def func():\n",
    "    x = 5   # local variable, *different* from the global x\n",
    "    print(\"Inside func, x =\", x)\n",
    "\n",
    "func()\n",
    "print(\"Outside func, x =\", x)"
   ]
  },
  {
   "cell_type": "markdown",
   "id": "cd0300e7-bdee-49e9-b8fa-0f3ce053780a",
   "metadata": {},
   "source": [
    "This prints `Inside func, x = 5` and then `Outside func, x = 10`. The local `x` inside `func` *shadows* the global `x`. Python looks in the local scope first; if not found, then in the global scope. Thus, using the same name for local and global variables can be confusing and lead to bugs."
   ]
  },
  {
   "cell_type": "code",
   "execution_count": null,
   "id": "16f4c197-af56-42b0-a5a5-8ea03f93a42c",
   "metadata": {},
   "outputs": [],
   "source": [
    "count = 100  # global\n",
    "\n",
    "def increment():\n",
    "    count = count + 1  # Attempt to modify global 'count' without declaring global\n",
    "    print(count)\n",
    "\n",
    "increment()  # Error: UnboundLocalError"
   ]
  },
  {
   "cell_type": "markdown",
   "id": "54608243-cb32-4098-b97b-da390be98397",
   "metadata": {},
   "source": [
    "---\n",
    "\n",
    "## 🧠 What is a `lambda` Function?\n",
    "\n",
    "A `lambda` function is a **short**, **anonymous**, **one-line function** in Python used for quick, throwaway operations.\n",
    "\n",
    "**The word \"lambda\" comes from mathematics**, where it refers to anonymous functions (called lambda expressions in calculus).\n",
    "\n",
    "---\n",
    "\n",
    "### 🔹 General Syntax:\n",
    "\n",
    "```python\n",
    "lambda arguments: expression\n",
    "```\n",
    "\n",
    "This defines a function that:\n",
    "\n",
    "* Takes **`arguments`**\n",
    "* Executes the **`expression`**\n",
    "* Returns the **result of the expression**\n",
    "\n",
    "---\n",
    "\n",
    "### 🧾 VS Regular `def` Function\n",
    "\n",
    "| Feature  | `lambda`                           | `def`                         |\n",
    "| -------- | ---------------------------------- | ----------------------------- |\n",
    "| Syntax   | One-liner                          | Multi-line                    |\n",
    "| Name     | Anonymous (can assign to variable) | Named                         |\n",
    "| Use Case | Quick throwaway functions          | Reusable or complex functions |\n",
    "| Body     | Only 1 expression                  | Many lines/statements allowed |\n",
    "\n",
    "---\n",
    "\n",
    "### ✅ Example 1: Simple Addition\n",
    "\n",
    "#### With `def`\n",
    "\n",
    "```python\n",
    "def add(x, y):\n",
    "    return x + y\n",
    "\n",
    "print(add(3, 5))  # 8\n",
    "```\n",
    "\n",
    "#### With `lambda`\n",
    "\n",
    "```python\n",
    "add = lambda x, y: x + y\n",
    "print(add(3, 5))  # 8\n",
    "```\n",
    "\n",
    "🟡 Same output, but `lambda` is compact.\n",
    "\n",
    "---\n",
    "\n",
    "## 🔍 When to Use Lambda Functions?\n",
    "\n",
    "**Use `lambda` when:**\n",
    "\n",
    "1. You need a small, quick function.\n",
    "2. You're using built-in functions like `map()`, `filter()`, `sorted()`, `reduce()`.\n",
    "3. You don’t need to reuse the function.\n",
    "4. You want cleaner code when passing functions as arguments.\n",
    "\n",
    "---\n",
    "\n",
    "## 🧪 Common Real-World Examples\n",
    "\n",
    "---\n",
    "\n",
    "### 🎯 Example 2: Sorting Custom Structures\n",
    "\n",
    "```python\n",
    "students = [(\"Jane\", 22), (\"Mark\", 19), (\"Alice\", 25)]\n",
    "\n",
    "# Sort by age (index 1)\n",
    "sorted_by_age = sorted(students, key=lambda student: student[1])\n",
    "\n",
    "print(sorted_by_age)\n",
    "# [('Mark', 19), ('Jane', 22), ('Alice', 25)]\n",
    "```\n",
    "\n",
    "Here, `lambda student: student[1]` tells `sorted()` to sort by the second item in the tuple.\n",
    "\n",
    "---\n",
    "\n",
    "### 🎯 Example 3: Use with `map()`\n",
    "\n",
    "```python\n",
    "nums = [1, 2, 3, 4]\n",
    "\n",
    "# Square each number\n",
    "squared = list(map(lambda x: x ** 2, nums))\n",
    "\n",
    "print(squared)  # [1, 4, 9, 16]\n",
    "```\n",
    "\n",
    "`map()` applies a function to each item in an iterable. Using `lambda` makes it short and sweet.\n",
    "\n",
    "---\n",
    "\n",
    "### 🎯 Example 4: Use with `filter()`\n",
    "\n",
    "```python\n",
    "nums = [10, 15, 20, 25, 30]\n",
    "\n",
    "# Filter numbers greater than 20\n",
    "filtered = list(filter(lambda x: x > 20, nums))\n",
    "\n",
    "print(filtered)  # [25, 30]\n",
    "```\n",
    "\n",
    "---\n",
    "\n",
    "### 🎯 Example 5: Use with `reduce()` (needs `functools`)\n",
    "\n",
    "```python\n",
    "from functools import reduce\n",
    "\n",
    "nums = [1, 2, 3, 4]\n",
    "\n",
    "# Sum all numbers\n",
    "total = reduce(lambda x, y: x + y, nums)\n",
    "\n",
    "print(total)  # 10\n",
    "```\n",
    "\n",
    "---\n",
    "\n",
    "## ❗ Limitations of Lambda\n",
    "\n",
    "1. **One expression only** – can't write loops or multiple lines.\n",
    "2. **Hard to read for complex logic** – hurts readability.\n",
    "3. **No error handling** – can't use `try`, `except`, etc.\n",
    "\n",
    "So don't force `lambda` when a regular function is clearer.\n",
    "\n",
    "---\n",
    "\n",
    "## 🔁 Practice Challenge\n",
    "\n",
    "Write a lambda function to:\n",
    "\n",
    "* Multiply two numbers.\n",
    "* Get the last letter of a string.\n",
    "* Check if a number is **even**.\n",
    "\n",
    "<details>\n",
    "<summary>💡 Sample Answers</summary>\n",
    "\n",
    "```python\n",
    "multiply = lambda x, y: x * y\n",
    "print(multiply(3, 4))  # 12\n",
    "\n",
    "last_char = lambda s: s[-1]\n",
    "print(last_char(\"Lambda\"))  # 'a'\n",
    "\n",
    "is_even = lambda x: x % 2 == 0\n",
    "print(is_even(6))  # True\n",
    "```\n",
    "\n",
    "</details>\n",
    "\n",
    "---\n",
    "\n",
    "## 🔚 Summary\n",
    "\n",
    "* `lambda` is useful for **one-line functions**.\n",
    "* Ideal for **short-term**, **quick-use** logic.\n",
    "* Perfect with tools like `map()`, `filter()`, `sorted()`, `reduce()`.\n",
    "* Avoid for complex, reusable, or multi-step logic — use `def` instead.\n",
    "\n",
    "---"
   ]
  },
  {
   "cell_type": "markdown",
   "id": "852277ba-bab8-4f14-80ad-6eab9dde285c",
   "metadata": {},
   "source": [
    "The above code raises an error because assigning to `count` makes it local by default, so Python can’t read the global `count`. This illustrates why local variables *shadow* globals.\n",
    "\n",
    "### The `global` Keyword\n",
    "\n",
    "If you **really** need to modify a global variable inside a function, use the `global` keyword:"
   ]
  },
  {
   "cell_type": "code",
   "execution_count": null,
   "id": "ccb431b4-b93a-447c-ab42-fbe48c872994",
   "metadata": {},
   "outputs": [],
   "source": [
    "x = 300\n",
    "\n",
    "def set_x():\n",
    "    global x\n",
    "    x = 500  # modifies the global x\n",
    "\n",
    "print(x)   # 300 (before)\n",
    "set_x()\n",
    "print(x)   # 500 (after)"
   ]
  },
  {
   "cell_type": "markdown",
   "id": "980bf6a5-9155-4983-a0c7-5d032bbed0ae",
   "metadata": {},
   "source": [
    "Here, declaring `global x` tells Python to use the global `x`, not create a new local one. In general, it’s considered better practice to avoid modifying globals directly when possible, to keep code clear.\n",
    "\n",
    "### The `nonlocal` Keyword\n",
    "\n",
    "Inside **nested functions**, you can use `nonlocal` to refer to a variable in the enclosing (but non-global) scope. For example:"
   ]
  },
  {
   "cell_type": "code",
   "execution_count": null,
   "id": "7a7a8957-0876-44af-a1c8-ce3f9789ffb6",
   "metadata": {},
   "outputs": [],
   "source": [
    "def outer():\n",
    "    message = \"Hello\"\n",
    "    def inner():\n",
    "        nonlocal message  # refers to 'message' from outer()\n",
    "        message = \"Hello, Python!\"\n",
    "        print(\"Inside inner:\", message)\n",
    "    inner()\n",
    "    print(\"Inside outer:\", message)\n",
    "\n",
    "outer()\n",
    "# Output:\n",
    "# Inside inner: Hello, Python!\n",
    "# Inside outer: Hello, Python!\n"
   ]
  },
  {
   "cell_type": "markdown",
   "id": "02e8366f-424a-467c-b79d-0b00ab7b6746",
   "metadata": {},
   "source": [
    "Without `nonlocal message`, assigning to `message` in `inner()` would create a new local variable, leaving the `outer` message unchanged. The `nonlocal` keyword ensures the inner function modifies the variable in the outer function’s scope.\n",
    "\n",
    "## Modules in Python\n",
    "\n",
    "A **module** in Python is simply a file with a `.py` extension that contains Python code (functions, classes, variables) which can be imported into other Python scripts. Modules allow you to organize code into separate files, making large projects more manageable. They act like libraries or packages of related code.\n",
    "\n",
    "*“In Python, Modules are simply files with the ‘.py’ extension containing Python code that can be imported inside another \\[program]”*. Using modules promotes **modular programming**: you group related functions and classes together, so code is easier to maintain and reuse. For example, you might have a `math_utils.py` module for math functions, or `string_tools.py` for text processing.\n",
    "\n",
    "### Importing Modules\n",
    "\n",
    "To use a module, use the `import` keyword:"
   ]
  },
  {
   "cell_type": "code",
   "execution_count": null,
   "id": "92fa1764-b925-401e-be65-70e5348f7c5d",
   "metadata": {},
   "outputs": [],
   "source": [
    "import math       # import the standard math module\n",
    "print(math.sqrt(16))  # Outputs: 4.0"
   ]
  },
  {
   "cell_type": "markdown",
   "id": "eb28e735-f077-40c8-9679-08e1c947c5be",
   "metadata": {},
   "source": [
    "This imports the entire `math` module. Alternatively, import specific names with `from ... import`:"
   ]
  },
  {
   "cell_type": "code",
   "execution_count": null,
   "id": "f27f1fc6-9b71-4c10-87b1-b9be1516e1a7",
   "metadata": {},
   "outputs": [],
   "source": [
    "from datetime import datetime   # import only datetime class\n",
    "print(datetime.now())          # e.g. 2025-05-17 16:35:27.123456"
   ]
  },
  {
   "cell_type": "markdown",
   "id": "296f1068-4c75-47d9-a34a-897f450b245d",
   "metadata": {},
   "source": [
    "You can also give modules (or functions) an alias:"
   ]
  },
  {
   "cell_type": "code",
   "execution_count": null,
   "id": "ceaa93e4-41dd-4222-94f2-bb9d925456d4",
   "metadata": {},
   "outputs": [],
   "source": [
    "import statistics as stats\n",
    "data = [1, 2, 3, 4]\n",
    "print(stats.mean(data))  # Outputs: 2.5"
   ]
  },
  {
   "cell_type": "markdown",
   "id": "89260646-906a-4e8c-8f8a-8ea0a4c035fa",
   "metadata": {},
   "source": [
    "* **Importing standard modules:** Python comes with many built-in modules (e.g. `math`, `random`, `datetime`, `sys`, `os`, etc.). Just use their names after importing.\n",
    "* **Importing user-defined modules:** If you have a file `mymodule.py`, you can place it in the same directory or in Python’s search path and import it via `import mymodule`. Python looks for the module in the current directory first.\n",
    "* **Using `from ... import`:** You can import specific functions or classes (`from module import function`) to avoid namespace qualification.\n",
    "* **Using aliases (`as`):** Helpful when module names are long or when you want to avoid name conflicts.\n",
    "\n",
    "### Common Built-in Modules\n",
    "\n",
    "Python’s standard library contains many modules. Some frequently used ones include:\n",
    "\n",
    "* **`math`** – provides mathematical functions from the C standard library. Example: `math.sqrt()`, `math.factorial()`, `math.pi`."
   ]
  },
  {
   "cell_type": "code",
   "execution_count": null,
   "id": "1aae610f-ac76-42e5-b49a-43eea7d90996",
   "metadata": {},
   "outputs": [],
   "source": [
    " import math\n",
    "  print(math.pi)         # 3.141592653589793\n",
    "  print(math.factorial(5))  # 120"
   ]
  },
  {
   "cell_type": "markdown",
   "id": "9ce57969-fbf3-40e1-90e5-d74e8951e117",
   "metadata": {},
   "source": [
    "* **`random`** – implements pseudo-random number generators. Example: `random.randint()`, `random.choice()`, `random.shuffle()`.\n"
   ]
  },
  {
   "cell_type": "code",
   "execution_count": null,
   "id": "1512d99d-d963-425f-a1eb-0688f58772e7",
   "metadata": {},
   "outputs": [],
   "source": [
    "  import random\n",
    "  print(random.randint(1, 10))  # random integer between 1 and 10\n",
    "  fruits = [\"apple\", \"banana\", \"cherry\"]\n",
    "  print(random.choice(fruits))  # random element from list"
   ]
  },
  {
   "cell_type": "markdown",
   "id": "1a0a6033-2de3-4a79-9ce6-8a5e567b1dc6",
   "metadata": {},
   "source": [
    "* **`datetime`** – supplies classes for manipulating dates and times. Example: `datetime.now()`, `datetime.strftime()`."
   ]
  },
  {
   "cell_type": "code",
   "execution_count": null,
   "id": "40976d31-7b1b-487e-9e10-4d9d3cd23b2b",
   "metadata": {},
   "outputs": [],
   "source": [
    "from datetime import datetime\n",
    "  now = datetime.now()\n",
    "  print(now.strftime(\"%Y-%m-%d %H:%M:%S\"))  # e.g., \"2025-05-17 16:40:00\""
   ]
  },
  {
   "cell_type": "markdown",
   "id": "f86990d8-e18e-4ed0-a575-47533c852775",
   "metadata": {},
   "source": [
    "* **Others:** modules like `sys` (system-specific parameters), `os` (operating system interfaces), `json`, `re` (regular expressions), etc. Each has its own functions. Refer to Python’s documentation for details.\n",
    "\n",
    "Using these modules is as simple as importing and calling their functions, which saves time versus writing such functionality from scratch.\n",
    "\n",
    "## Creating and Using Custom Modules\n",
    "\n",
    "You can create your own modules by writing Python code in `.py` files:\n",
    "\n",
    "1. **Writing your own module:** Simply save functions and classes in a `.py` file. For example, create a file `mymath.py` with the following content:\n"
   ]
  },
  {
   "cell_type": "code",
   "execution_count": null,
   "id": "91170b81-c94a-4b28-907d-b37049b2852b",
   "metadata": {},
   "outputs": [],
   "source": [
    "  # File: mymath.py\n",
    "\n",
    "   def add(a, b):\n",
    "       return a + b\n",
    "\n",
    "   def factorial(n):\n",
    "       if n <= 1:\n",
    "           return 1\n",
    "       return n * factorial(n - 1)"
   ]
  },
  {
   "cell_type": "markdown",
   "id": "2ab5cfb2-9c1e-4860-bd4e-5f4d14fadc35",
   "metadata": {},
   "source": [
    "2. **Importing from a file:** In another script or notebook in the same directory, use `import mymath` to access these functions. For example:"
   ]
  },
  {
   "cell_type": "code",
   "execution_count": null,
   "id": "d41cda9d-f2ed-4eaa-a749-22630e2bc0d3",
   "metadata": {},
   "outputs": [],
   "source": [
    " import mymath\n",
    "   print(mymath.add(2, 3))           # Outputs: 5\n",
    "   print(mymath.factorial(5))       # Outputs: 120"
   ]
  },
  {
   "cell_type": "markdown",
   "id": "fae7bc6d-ac55-4131-965e-ec04a68b2cbd",
   "metadata": {},
   "source": [
    "  >Python will execute `mymath.py` when you import it, loading the definitions.\n",
    "\n",
    "3. **The `__name__ == \"__main__\"` idiom:** Inside a module, you often see:"
   ]
  },
  {
   "cell_type": "code",
   "execution_count": null,
   "id": "923859cd-95c1-4c69-83d1-b4ed6bea3d40",
   "metadata": {},
   "outputs": [],
   "source": [
    "  if __name__ == \"__main__\":\n",
    "       # code here runs only when the module is executed directly,\n",
    "       # not when imported.\n",
    "       print(\"Running as a script\")"
   ]
  },
  {
   "cell_type": "markdown",
   "id": "25b521cd-f83e-45e3-b4a7-ff1c6bb36658",
   "metadata": {},
   "source": [
    "   The special variable `__name__` is set to `\"__main__\"` only when you run the script directly; otherwise it’s set to the module’s name. By putting test code or example usage inside this `if` block, you prevent it from running on import. For example:"
   ]
  },
  {
   "cell_type": "code",
   "execution_count": null,
   "id": "5014bb9e-987a-4c7d-9bba-52c448b5e070",
   "metadata": {},
   "outputs": [],
   "source": [
    "   # File: greetings.py\n",
    "\n",
    "   def say_hello():\n",
    "       print(\"Hello!\")\n",
    "\n",
    "   if __name__ == \"__main__\":\n",
    "       # This block runs only when greetings.py is run directly\n",
    "       say_hello()\n",
    "       print(\"This will not run when imported.\")\n",
    "       \n",
    " #  Then:"
   ]
  },
  {
   "cell_type": "code",
   "execution_count": null,
   "id": "112a548d-e316-45df-8f4b-e14a54333ff1",
   "metadata": {},
   "outputs": [],
   "source": [
    "  import greetings\n",
    "   greetings.say_hello()  \n",
    "   # Outputs:\n",
    "   # Hello!\n",
    "   # (the message inside the __main__ block does not appear)"
   ]
  },
  {
   "cell_type": "markdown",
   "id": "e08168bd-b963-4130-a919-71546e54c39c",
   "metadata": {},
   "source": [
    "   This is a common way to include tests or demo code in a module while allowing it to be imported safely.\n",
    "\n",
    "## Common Mistakes and Debugging Tips\n",
    "\n",
    "* **Forgetting to `return` a value:** If you forget a `return`, Python returns `None` by default. This can lead to unexpected `None` values. Always use `return` if the function should output something. Example:"
   ]
  },
  {
   "cell_type": "code",
   "execution_count": null,
   "id": "9f8dc07c-0bf2-429c-b2af-e3802e3b8048",
   "metadata": {},
   "outputs": [],
   "source": [
    " def concat(a, b):\n",
    "      result = a + b\n",
    "      # forgot to return result!\n",
    "\n",
    "  output = concat(\"Hi\", \" there\")\n",
    "  print(output)  # Prints: None"
   ]
  },
  {
   "cell_type": "markdown",
   "id": "641116d1-0f45-47ab-8bff-47ed4e954db8",
   "metadata": {},
   "source": [
    "* **Variable shadowing (scope issues):** Reusing variable names in different scopes can cause confusion. A local variable with the same name as a global will *shadow* the global, meaning the global is not accessible under that name. To avoid this, use different names or use `global`/`nonlocal` intentionally as needed.\n",
    "* **Recursive base case errors:** Every recursive function needs a base case to terminate. If the base case is wrong or missing, recursion will continue indefinitely until Python raises a `RecursionError`. Double-check your base condition. For example, a faulty recursive function:"
   ]
  },
  {
   "cell_type": "code",
   "execution_count": null,
   "id": "02501a49-42bf-4bc5-87eb-b4ac9dee1a68",
   "metadata": {},
   "outputs": [],
   "source": [
    " def countdown(n):\n",
    "      # incorrect base case: n > 0 should eventually hit n=0\n",
    "      if n > 0:\n",
    "          print(n)\n",
    "          countdown(n - 1)\n",
    "      else:\n",
    "          print(\"Done!\")"
   ]
  },
  {
   "cell_type": "markdown",
   "id": "0c4a4818-b395-44ac-a8ed-cb08797f55a1",
   "metadata": {},
   "source": [
    "  If you mistakenly write `if n >= 0` instead of `if n > 0`, you may never reach the stopping condition correctly. Always trace recursive logic carefully.\n",
    "* **Circular imports:** This happens when two modules import each other. For example, if `moduleA.py` does `import moduleB` and `moduleB.py` does `import moduleA` at the top level, Python gets stuck because each module waits on the other. This causes runtime errors. To debug circular imports, try refactoring your code to avoid mutual dependencies (for example, import inside functions or use a third module to share functionality).\n",
    "\n",
    "Debugging tip: Use print statements or a debugger to inspect variable values and flow. For functions, printing input and output can help trace problems. Ensure each function is tested individually (unit testing) to catch errors early.\n",
    "\n",
    "## Practice Exercises and Mini-Project\n",
    "\n",
    "Now let’s apply these concepts with exercises. Try solving these, then check the solutions provided.\n",
    "\n",
    "1. **Factorial Function (recursive):** Write a function `factorial(n)` that returns `n!`.\n",
    "   *Solution:*"
   ]
  },
  {
   "cell_type": "code",
   "execution_count": null,
   "id": "b38cbdb2-dceb-4f5f-9c52-a131fd1098eb",
   "metadata": {},
   "outputs": [],
   "source": [
    "   def factorial(n):\n",
    "       # Calculate n! using recursion\n",
    "       if n <= 1:\n",
    "           return 1\n",
    "       return n * factorial(n - 1)\n",
    "\n",
    "   print(factorial(6))  # Outputs: 720"
   ]
  },
  {
   "cell_type": "markdown",
   "id": "b0b267ab-58d9-4ea2-bafc-7bc7fe5fe82c",
   "metadata": {},
   "source": [
    "2. **Fibonacci Sequence (iterative):** Write a function `fibonacci(n)` that returns the nth Fibonacci number (with `fibonacci(0)=0, fibonacci(1)=1`).\n",
    " *Solution:*"
   ]
  },
  {
   "cell_type": "code",
   "execution_count": null,
   "id": "502c3245-9d57-4c64-8f32-a33572c7fe60",
   "metadata": {},
   "outputs": [],
   "source": [
    "   def fibonacci(n):\n",
    "       # Compute fibonacci number iteratively\n",
    "       if n <= 1:\n",
    "           return n\n",
    "       a, b = 0, 1\n",
    "       for _ in range(2, n+1):\n",
    "           a, b = b, a + b\n",
    "       return b\n",
    "\n",
    "   print(fibonacci(10))  # Outputs: 55"
   ]
  },
  {
   "cell_type": "markdown",
   "id": "63e32e74-a2bb-4939-b442-430a28671470",
   "metadata": {},
   "source": [
    "3. **Simple Calculator:** Create a function `calculate(a, b, op)` where `op` is one of `\"+\"`, `\"-\"`, `\"*\"`, or `\"/\"`. The function should perform the operation on `a` and `b`.\n",
    "   *Solution:*"
   ]
  },
  {
   "cell_type": "code",
   "execution_count": null,
   "id": "a0c267c4-bb8a-4557-8276-b8085b4fb160",
   "metadata": {},
   "outputs": [],
   "source": [
    " def calculate(a, b, op):\n",
    "       # Perform basic arithmetic based on op\n",
    "       if op == \"+\":\n",
    "           return a + b\n",
    "       elif op == \"-\":\n",
    "           return a - b\n",
    "       elif op == \"*\":\n",
    "           return a * b\n",
    "       elif op == \"/\":\n",
    "           return a / b\n",
    "       else:\n",
    "           return \"Invalid operation\"\n",
    "\n",
    "   print(calculate(10, 5, \"+\"))  # Outputs: 15\n",
    "   print(calculate(10, 5, \"/\"))  # Outputs: 2.0"
   ]
  },
  {
   "cell_type": "markdown",
   "id": "9c6b2ddf-e838-4132-8a87-9a55e6f308a5",
   "metadata": {},
   "source": [
    "4. **Palindrome Checker:** Write a function `is_palindrome(s)` that returns `True` if string `s` is a palindrome (reads the same forwards and backwards), ignoring case and non-alphanumeric characters.\n",
    "   *Solution:*"
   ]
  },
  {
   "cell_type": "code",
   "execution_count": null,
   "id": "7c57ab18-548f-4ed5-9cc1-807c2ea146f7",
   "metadata": {},
   "outputs": [],
   "source": [
    "   import re\n",
    "\n",
    "   def is_palindrome(s):\n",
    "       # Remove non-alphanumeric and convert to lowercase\n",
    "       cleaned = re.sub(r'[\\W_]+', '', s).lower()\n",
    "       return cleaned == cleaned[::-1]\n",
    "\n",
    "   print(is_palindrome(\"A man, a plan, a canal: Panama\"))  # True\n",
    "   print(is_palindrome(\"Hello\"))  # False"
   ]
  },
  {
   "cell_type": "markdown",
   "id": "1abab5cb-6e83-4030-830f-846596ba36bc",
   "metadata": {},
   "source": [
    "5. **Count Vowels:** Write a function `count_vowels(s)` that returns the number of vowels in the string `s`.\n",
    "   *Solution:*"
   ]
  },
  {
   "cell_type": "code",
   "execution_count": null,
   "id": "d2ecbdfb-9a5b-46b3-8aa6-fff2c7196ec1",
   "metadata": {},
   "outputs": [],
   "source": [
    "   def count_vowels(s):\n",
    "       count = 0\n",
    "       vowels = \"aeiouAEIOU\"\n",
    "       for char in s:\n",
    "           if char in vowels:\n",
    "               count += 1\n",
    "       return count\n",
    "\n",
    "   print(count_vowels(\"Hello World\"))  # Outputs: 3"
   ]
  },
  {
   "cell_type": "markdown",
   "id": "b1dbdecf-9f23-4a9e-964e-3499f818811e",
   "metadata": {},
   "source": [
    "6. **Sum of Numbers with *args:** Write a function `sum_all(*numbers)` that returns the sum of any number of numeric arguments.\n",
    "   *Solution:*"
   ]
  },
  {
   "cell_type": "code",
   "execution_count": null,
   "id": "9c9512f0-a508-4188-8f42-049dfc70efcf",
   "metadata": {},
   "outputs": [],
   "source": [
    "def sum_all(*numbers):\n",
    "       total = 0\n",
    "       for num in numbers:\n",
    "           total += num\n",
    "       return total\n",
    "\n",
    "   print(sum_all(1, 2, 3, 4, 5))  # Outputs: 15"
   ]
  },
  {
   "cell_type": "markdown",
   "id": "a4a4c7a3-2d9a-4076-8d2b-367fbb0c8d92",
   "metadata": {},
   "source": [
    "### Mini Project: A Utility Module\n",
    "\n",
    "Combine functions and modules by creating a simple utility module. For example, create `myutils.py`:"
   ]
  },
  {
   "cell_type": "code",
   "execution_count": null,
   "id": "8f07cb9c-11f0-49a6-8c42-8819a68d442b",
   "metadata": {},
   "outputs": [],
   "source": [
    "# File: myutils.py\n",
    "\n",
    "def factorial(n):\n",
    "    if n <= 1:\n",
    "        return 1\n",
    "    return n * factorial(n - 1)\n",
    "\n",
    "def fibonacci(n):\n",
    "    if n <= 1:\n",
    "        return n\n",
    "    a, b = 0, 1\n",
    "    for _ in range(2, n+1):\n",
    "        a, b = b, a + b\n",
    "    return b\n",
    "\n",
    "def greet(name):\n",
    "    return f\"Hello, {name}!\"\n",
    "\n",
    "if __name__ == \"__main__\":\n",
    "    # Test code only runs when module is executed directly\n",
    "    print(\"Testing myutils:\")\n",
    "    print(\"5! =\", factorial(5))\n",
    "    print(\"Fib(10) =\", fibonacci(10))\n",
    "    print(greet(\"Alice\"))"
   ]
  },
  {
   "cell_type": "markdown",
   "id": "a52becf7-0c36-45b9-a080-03fbea914e28",
   "metadata": {},
   "source": [
    ">Then, in a separate script or notebook, use this module:"
   ]
  },
  {
   "cell_type": "code",
   "execution_count": null,
   "id": "ca093cdb-4d11-4b1a-a88e-a7b08242b6bb",
   "metadata": {},
   "outputs": [],
   "source": [
    "import myutils\n",
    "\n",
    "print(myutils.factorial(4))    # Outputs: 24\n",
    "print(myutils.fibonacci(7))    # Outputs: 13\n",
    "print(myutils.greet(\"Bob\"))    # Outputs: Hello, Bob!"
   ]
  },
  {
   "cell_type": "markdown",
   "id": "82685453-9687-42f2-844b-4e231d226bca",
   "metadata": {},
   "source": [
    "This mini project illustrates how you can keep functions organized in a module (`myutils.py`) and import them elsewhere. It also shows using the `__name__ == \"__main__\"` block to include quick tests that don’t run on import.\n",
    "\n",
    "---"
   ]
  }
 ],
 "metadata": {
  "kernelspec": {
   "display_name": "Python [conda env:base] *",
   "language": "python",
   "name": "conda-base-py"
  },
  "language_info": {
   "codemirror_mode": {
    "name": "ipython",
    "version": 3
   },
   "file_extension": ".py",
   "mimetype": "text/x-python",
   "name": "python",
   "nbconvert_exporter": "python",
   "pygments_lexer": "ipython3",
   "version": "3.12.7"
  }
 },
 "nbformat": 4,
 "nbformat_minor": 5
}
