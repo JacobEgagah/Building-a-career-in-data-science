{
 "cells": [
  {
   "cell_type": "markdown",
   "id": "d28cab69-b32f-42d4-8121-f6607518f132",
   "metadata": {},
   "source": [
    "# Data types and structures\n",
    "> Previously we discussed about **variables**, and how they are used to store integers, strings, dictinaries etc. We also got introduced to **Data Types** . Today we are going to dive deeper into **Data Types & Structures**.\n",
    "\n",
    "Python Data Structures are divided into two  \n",
    "![Data-Structures-Chart](https://drive.google.com/uc?export=view&id=1k7e0gt1iFzF4XZYdve4crIPt0psbw2iG)\n"
   ]
  },
  {
   "cell_type": "markdown",
   "id": "b850b7ab-8737-4033-b6eb-da46546aac0f",
   "metadata": {},
   "source": [
    "In **Python**, data types can be broadly classified into two categories:\n",
    "\n",
    "---\n",
    "\n",
    "## 🧮 Primitive Data Types\n",
    "\n",
    "These are the **basic** data types built into Python. They store **simple values** and are the foundation for more complex types.\n",
    "\n",
    "| **Type**   | **Example**     | **Description**                           |\n",
    "| ---------- | --------------- | ----------------------------------------- |\n",
    "| `int`      | `10`, `-3`, `0` | Whole numbers                             |\n",
    "| `float`    | `3.14`, `-0.01` | Numbers with decimal points               |\n",
    "| `bool`     | `True`, `False` | Boolean values                            |\n",
    "| `str`      | `\"hello\"`       | Sequence of characters (text)             |\n",
    "| `NoneType` | `None`          | Represents the absence of a value or null |\n",
    "\n",
    "---\n",
    "\n",
    "## 🧳 Non-Primitive Data Types (Complex Types)\n",
    "\n",
    "These are **derived** or **user-defined** types that store **multiple values** or structured data.\n",
    "\n",
    "| **Type**         | **Example**                  | **Description**               |\n",
    "| ---------------- | ---------------------------- | ----------------------------- |\n",
    "| `list`           | `[1, 2, 3]`                  | Ordered, mutable collection   |\n",
    "| `tuple`          | `(1, 2, 3)`                  | Ordered, immutable collection |\n",
    "| `set`            | `{1, 2, 3}`                  | Unordered, no duplicates      |\n",
    "| `dict`           | `{\"name\": \"Tom\", \"age\": 20}` | Key-value pairs               |\n",
    "| `range`          | `range(1, 5)`                | Sequence of numbers           |\n",
    "| **Custom class** | `class MyCar: ...`           | User-defined structures       |\n",
    "\n",
    "---\n",
    "\n",
    "## Difference Between Primitive and Non-Primitive\n",
    "\n",
    "| **Feature**  | **Primitive**                                     | **Non-Primitive**                       |\n",
    "| ------------ | ------------------------------------------------- | --------------------------------------- |\n",
    "| **Stores**   | Single value                                      | Multiple or complex values              |\n",
    "| **Mutable**  | Mostly immutable (except `str` can be reassigned) | Most are mutable (except `tuple`)       |\n",
    "| **Examples** | `int`, `float`, `str`, `bool`                     | `list`, `dict`, `tuple`, `set`, `class` |\n",
    "| **Memory**   | Efficient, small size                             | May consume more memory                 |\n",
    "\n",
    "---"
   ]
  },
  {
   "cell_type": "markdown",
   "id": "3f896a31-fe6e-46a1-9d97-7851cb9cefbf",
   "metadata": {},
   "source": [
    "---\n",
    "\n",
    "In Python, **data structures** are ways of organizing and storing data so that it can be accessed and worked with efficiently. Python provides several built-in data structures, and here are the most commonly used ones:\n",
    "\n",
    "---\n",
    "\n",
    "## 🧱 Basic Data Structures in Python with Illustrative Examples\n",
    "\n",
    "### 1. **List**\n",
    "\n",
    "* **Ordered**, **mutable**, and allows **duplicates**\n",
    "* Think of it like a **shopping list** or a **bag of groceries** where order matters.\n",
    "---"
   ]
  },
  {
   "cell_type": "code",
   "execution_count": null,
   "id": "57ad1937-505f-4de1-8251-e7474fbe0032",
   "metadata": {},
   "outputs": [],
   "source": [
    "fruits = ['apple', 'banana', 'mango', 'apple']\n",
    "print(fruits[0])  # Output: 'apple'\n"
   ]
  },
  {
   "cell_type": "markdown",
   "id": "cdc269ff-d2e9-42f8-8739-2f59c7a0f80b",
   "metadata": {},
   "source": [
    "---\n",
    "\n",
    "### 2. **Tuple**\n",
    "\n",
    "* **Ordered**, **immutable**, and allows **duplicates**\n",
    "* Like a **sealed box**: once packed, you can't change the items inside.\n",
    "\n",
    "---"
   ]
  },
  {
   "cell_type": "code",
   "execution_count": null,
   "id": "eebf419b-c3c2-42f6-98a3-bd61795e321d",
   "metadata": {},
   "outputs": [],
   "source": [
    "coordinates = (10.5, 20.3)\n",
    "print(coordinates[1])  # Output: 20.3\n"
   ]
  },
  {
   "cell_type": "markdown",
   "id": "afadaaaf-d13b-4628-98ba-a6fb1421f468",
   "metadata": {},
   "source": [
    "---\n",
    "\n",
    "### 3. **Set**\n",
    "\n",
    "* **Unordered**, **mutable**, and **no duplicates**\n",
    "* Think of a **bag of unique tokens** – it removes any duplicates automatically.\n",
    "\n",
    "---"
   ]
  },
  {
   "cell_type": "code",
   "execution_count": null,
   "id": "6213903c-33fd-4edc-93b0-e24b39082eef",
   "metadata": {},
   "outputs": [],
   "source": [
    "unique_numbers = {1, 2, 2, 3}\n",
    "print(unique_numbers)  # Output: {1, 2, 3}\n"
   ]
  },
  {
   "cell_type": "markdown",
   "id": "d2f335a1-9364-4584-87ef-1b1b99077d53",
   "metadata": {},
   "source": [
    "---\n",
    "\n",
    "### 4. **Dictionary**\n",
    "\n",
    "* **Unordered** (as of Python 3.6+, ordered), stores **key-value pairs**\n",
    "* Like a **cabinet with labels** – each label (key) points to a value.\n",
    "\n",
    "---"
   ]
  },
  {
   "cell_type": "code",
   "execution_count": null,
   "id": "c00199c8-905d-41e3-ab38-c5bf8dcc3c87",
   "metadata": {},
   "outputs": [],
   "source": [
    "student = {\"name\": \"Jacob E.\", \"age\": 28, \"course\": \"Python\"}\n",
    "print(student[\"name\"])  # Output: 'Jacob E'\n"
   ]
  },
  {
   "cell_type": "markdown",
   "id": "f4fb1523-c56b-4e36-809f-74bf551c963d",
   "metadata": {},
   "source": [
    "---\n",
    "\n",
    "## 📊 When to Use Which?\n",
    "\n",
    "| Data Structure | When to Use                                                  |\n",
    "| -------------- | ------------------------------------------------------------ |\n",
    "| `list`         | When order matters, and you may need to change data later    |\n",
    "| `tuple`        | When order matters, but data should stay constant            |\n",
    "| `set`          | When you need unique items and fast membership checking      |\n",
    "| `dict`         | When you need to associate keys with values for quick lookup |\n",
    "\n",
    "---\n",
    "for more information on this lesson click the visit\n",
    "[Visit python.org For more information](https://docs.python.org/3/library/stdtypes.html)\n"
   ]
  },
  {
   "cell_type": "markdown",
   "id": "8eca7b27-48bc-4d69-890b-1c7faeb3d98c",
   "metadata": {},
   "source": [
    "## 🧰 Python Data Type Methods & Examples\n",
    "\n",
    "This guide covers essential methods and operations for:\n",
    "\n",
    "* Strings (`str`)\n",
    "* Integers (`int`)\n",
    "* Lists (`list`)\n",
    "* Tuples (`tuple`)\n",
    "* Sets (`set`)\n",
    "* Dictionaries (`dict`)\n",
    "* Combined Tasks\n",
    "\n",
    "---\n",
    "### 🔢 1. Integer (`int`) Methods\n",
    "\n",
    "Integers are whole numbers. Though integers don’t have many methods, you can use operators and functions with them.\n",
    "\n",
    "#### Examples:"
   ]
  },
  {
   "cell_type": "code",
   "execution_count": null,
   "id": "0daade58-d531-4abc-8c0e-882df38053d6",
   "metadata": {},
   "outputs": [],
   "source": [
    "a = 10\n",
    "b = 3\n",
    "\n",
    "print(a + b)  # Addition → 13\n",
    "print(a - b)  # Subtraction → 7\n",
    "print(a * b)  # Multiplication → 30\n",
    "print(a / b)  # Division → 3.33\n",
    "print(a // b) # Floor Division → 3\n",
    "print(a % b)  # Modulo → 1\n",
    "print(a ** b) # Exponentiation → 1000\n"
   ]
  },
  {
   "cell_type": "markdown",
   "id": "0f6bf09e-520f-4afe-9274-9ad0e3815aec",
   "metadata": {},
   "source": [
    "\n",
    "## 🧵 2. String (`str`) Methods\n",
    "\n",
    "Strings are ordered sequences of characters, enclosed in quotes (`' '` or `\" \"`).\n",
    "\n",
    "### 🔧 Common String Methods & Examples"
   ]
  },
  {
   "cell_type": "code",
   "execution_count": null,
   "id": "3a272084-3524-42d9-ad91-665af92f73e8",
   "metadata": {},
   "outputs": [],
   "source": [
    "text = \"  Hello, Python World!  \"\n",
    "\n",
    "print(text.lower())         # '  hello, python world!  '\n",
    "print(text.upper())         # '  HELLO, PYTHON WORLD!  '\n",
    "print(text.strip())         # 'Hello, Python World!' (removes spaces)\n",
    "print(text.find(\"Python\"))  # 9 (index where \"Python\" starts)\n",
    "print(text.replace(\"World\", \"Universe\"))  # '  Hello, Python Universe!  '\n",
    "print(text.split())         # ['Hello,', 'Python', 'World!'] (splits by spaces)\n",
    "print(\"-\".join([\"A\", \"B\", \"C\"]))  # 'A-B-C' (joins list into string)\n",
    "print(len(text))            # 23\n",
    "print(text.startswith(\"  H\")) # True\n",
    "print(text.endswith(\"!  \"))   # True\n"
   ]
  },
  {
   "cell_type": "markdown",
   "id": "3d2e80af-cb7a-4a24-804c-86de600db2e6",
   "metadata": {},
   "source": [
    "\n",
    "### ✨ String Formatting\n",
    ">recall we already did this in **Print Formatting** under **PYTHON BASICS**"
   ]
  },
  {
   "cell_type": "code",
   "execution_count": null,
   "id": "934cd444-9b9a-420a-b71e-e45fe5039663",
   "metadata": {},
   "outputs": [],
   "source": [
    "name = \"Christiana Milan\"\n",
    "age = 30\n",
    "\n",
    "# Old style\n",
    "print(\"My name is %s and I am %d years old\" % (name, age))\n",
    "\n",
    "# str.format() method\n",
    "print(\"My name is {} and I am {} years old\".format(name, age))\n",
    "\n",
    "# f-string (Python 3.6+)\n",
    "print(f\"My name is {name} and I am {age} years old\")\n"
   ]
  },
  {
   "cell_type": "markdown",
   "id": "56af1bce-a09c-441e-8f6e-885ccc0cbc31",
   "metadata": {},
   "source": [
    "### 📋 3. List (`list`) Methods\n",
    "\n",
    "Lists are ordered, mutable collections.\n",
    "\n",
    "#### Common Methods:"
   ]
  },
  {
   "cell_type": "code",
   "execution_count": null,
   "id": "cb2b1b84-c837-4051-ac83-548f880f85af",
   "metadata": {},
   "outputs": [],
   "source": [
    "fruits = [\"apple\", \"banana\", \"mango\"]\n",
    "\n",
    "fruits.append(\"orange\")     # Adds to end\n",
    "fruits.insert(1, \"grape\")   # Inserts at index 1\n",
    "fruits.remove(\"banana\")     # Removes specific item\n",
    "fruits.pop()                # Removes last item\n",
    "fruits.sort()               # Sorts list\n",
    "fruits.reverse()            # Reverses list\n",
    "print(len(fruits))          # Number of items\n",
    "print(fruits.index(\"apple\"))# Index of \"apple\"\n"
   ]
  },
  {
   "cell_type": "markdown",
   "id": "4726f869-1724-4300-812f-c2235113a8e6",
   "metadata": {},
   "source": [
    "### 🔗 4. Tuple (`tuple`) Methods\n",
    "\n",
    "Tuples are ordered, **immutable** collections.\n",
    "\n",
    "#### Common Methods:"
   ]
  },
  {
   "cell_type": "code",
   "execution_count": null,
   "id": "91dcd8bc-98ff-4782-9548-d615398708d8",
   "metadata": {},
   "outputs": [],
   "source": [
    "colors = (\"red\", \"blue\", \"green\", \"blue\")\n",
    "\n",
    "print(colors.count(\"blue\"))  # Count of \"blue\" → 2\n",
    "print(colors.index(\"green\")) # Index of \"green\" → 2\n",
    "\n",
    "# You can’t change or append values in a tuple."
   ]
  },
  {
   "cell_type": "markdown",
   "id": "474ba021-6d6c-41ed-8a0b-b5df8ff6f05e",
   "metadata": {},
   "source": [
    "### 🔁 5. Set (`set`) Methods\n",
    "\n",
    "Sets are **unordered**, mutable collections with **no duplicates**.\n",
    "\n",
    "#### Common Methods:"
   ]
  },
  {
   "cell_type": "code",
   "execution_count": null,
   "id": "394c2205-67b2-43a0-b9a0-58e85450e054",
   "metadata": {},
   "outputs": [],
   "source": [
    "nums = {1, 2, 3}\n",
    "\n",
    "nums.add(4)           # Add item\n",
    "nums.update([5, 6])   # Add multiple items\n",
    "nums.remove(2)        # Remove item (error if not found)\n",
    "nums.discard(10)      # Remove item (no error if not found)\n",
    "nums.clear()          # Empty the set\n"
   ]
  },
  {
   "cell_type": "markdown",
   "id": "caf11a06-91f8-4025-bc1b-2c55b748ffa6",
   "metadata": {},
   "source": [
    "### 🗂️ 6. Dictionary (`dict`) Methods\n",
    "\n",
    "Dictionaries hold key-value pairs.\n",
    "\n",
    "#### Common Methods:"
   ]
  },
  {
   "cell_type": "code",
   "execution_count": null,
   "id": "5b5ce4ed-3fb9-46fb-978b-cf0e53b16bcb",
   "metadata": {},
   "outputs": [],
   "source": [
    "student = {\"name\": \"Bola\", \"age\": 29, \"course\": \"Data Science\"}\n",
    "\n",
    "print(student[\"name\"])              # Access value\n",
    "student[\"age\"] = 31                 # Update value\n",
    "student[\"city\"] = \"Lagos\"           # Add new key\n",
    "student.pop(\"course\")               # Remove key\n",
    "print(student.get(\"email\", \"N/A\"))  # Safe access\n",
    "print(student.keys())               # All keys\n",
    "print(student.values())             # All values\n",
    "print(student.items())              # All key-value pairs\n"
   ]
  },
  {
   "cell_type": "markdown",
   "id": "71ff7398-09b8-4d87-954d-0c834c270207",
   "metadata": {},
   "source": [
    "### 🎯 7. Practice Task\n",
    "\n",
    "Combine multiple data types in a practical task:"
   ]
  },
  {
   "cell_type": "code",
   "execution_count": 26,
   "id": "faf375fb-9679-4ef1-9162-69e341d8a2d2",
   "metadata": {},
   "outputs": [
    {
     "name": "stdout",
     "output_type": "stream",
     "text": [
      "Lucky is taking Math, Biology\n",
      "Ajibola is taking History, Python\n"
     ]
    }
   ],
   "source": [
    "# Task: Store and display student records\n",
    "\n",
    "students = []\n",
    "\n",
    "# Add first student\n",
    "student1 = {\n",
    "    \"name\": \"Lucky\",\n",
    "    \"age\": 20,\n",
    "    \"courses\": [\"Math\", \"Biology\"]\n",
    "}\n",
    "students.append(student1)\n",
    "\n",
    "# Add second student\n",
    "student2 = {\n",
    "    \"name\": \"Ajibola\",\n",
    "    \"age\": 22,\n",
    "    \"courses\": [\"History\", \"Python\"]\n",
    "}\n",
    "students.append(student2)\n",
    "\n",
    "# Print all student names and courses\n",
    "for student in students:\n",
    "    print(f\"{student['name']} is taking {', '.join(student['courses'])}\")\n",
    "    "
   ]
  },
  {
   "cell_type": "code",
   "execution_count": 30,
   "id": "c7013e63-be64-4f9a-a323-445b1fd7b140",
   "metadata": {},
   "outputs": [
    {
     "name": "stdout",
     "output_type": "stream",
     "text": [
      "Tasks                Time(mins)      Status         \n",
      "----------------------------------------------------\n",
      "Morning routine      120             Done           \n",
      "Chess practice       30              Done           \n",
      "Read book            45              Pending        \n",
      "Gym & Excercise      90              Not done       \n",
      "Cook & Eat           60              Done           \n",
      "Learn D.S            90              In progress    \n",
      "\n",
      " Completed tasks: 3\n",
      "\n",
      " Tasks in Uppercase:\n",
      "['MORNING ROUTINE', 'CHESS PRACTICE', 'READ BOOK', 'GYM & EXCERCISE', 'COOK & EAT', 'LEARN D.S']\n",
      "\n",
      " Tasks with underscores:\n",
      "['Morning_routine', 'Chess_practice', 'Read_book', 'Gym_&_Excercise', 'Cook_&_Eat', 'Learn_D.S']\n",
      "\n",
      " Long tasks (> 60 mins):\n",
      "['Morning routine', 'Gym & Excercise', 'Learn D.S']\n",
      "\n",
      "🧮 Total time spent: 435 minutes\n",
      "\n",
      " Clean Table with Uppercased Tasks and Status:\n",
      "Tasks                Time(mins)      Status         \n",
      "----------------------------------------------------\n",
      "MORNING ROUTINE      120             DONE           \n",
      "CHESS PRACTICE       30              DONE           \n",
      "READ BOOK            45              PENDING        \n",
      "GYM & EXCERCISE      90              NOT DONE       \n",
      "COOK & EAT           60              DONE           \n",
      "LEARN D.S            90              IN PROGRESS    \n"
     ]
    }
   ],
   "source": [
    "# Task Tracker Example with Methods\n",
    "\n",
    "task_status = {'Done', 'In progress', 'Pending', 'Not done'}\n",
    "\n",
    "my_to_do = {\n",
    "    'Tasks': ['Morning routine', 'Chess practice', 'Read book', 'Gym & Excercise', 'Cook & Eat', 'Learn D.S'],\n",
    "    'Time(mins)': [120, 30, 45, 90, 60, 90],\n",
    "    'Status': ['Done', 'Done', 'Pending', 'Not done', 'Done', 'In progress']\n",
    "}\n",
    "\n",
    "# Display table\n",
    "task_header = \"{:<20} {:<15} {:<15}\".format('Tasks', 'Time(mins)', 'Status')\n",
    "print(task_header)\n",
    "print(\"-\" * len(task_header))\n",
    "\n",
    "for task, time, status in zip(my_to_do['Tasks'], my_to_do['Time(mins)'], my_to_do['Status']):\n",
    "    print(\"{:<20} {:<15} {:<15}\".format(task, time, status))\n",
    "\n",
    "# Count 'Done' tasks\n",
    "done_count = my_to_do['Status'].count('Done')\n",
    "print(f\"\\n Completed tasks: {done_count}\")\n",
    "\n",
    "# Convert task names to uppercase\n",
    "upper_tasks = [task.upper() for task in my_to_do['Tasks']]\n",
    "print(\"\\n Tasks in Uppercase:\")\n",
    "print(upper_tasks)\n",
    "\n",
    "# Replace spaces with underscores\n",
    "underscore_tasks = [task.replace(\" \", \"_\") for task in my_to_do['Tasks']]\n",
    "print(\"\\n Tasks with underscores:\")\n",
    "print(underscore_tasks)\n",
    "\n",
    "# Tasks with time > 60 mins\n",
    "long_tasks = [task for task, time in zip(my_to_do['Tasks'], my_to_do['Time(mins)']) if time > 60]\n",
    "print(\"\\n Long tasks (> 60 mins):\")\n",
    "print(long_tasks)\n",
    "\n",
    "# Total time spent\n",
    "total_time = sum(my_to_do['Time(mins)'])\n",
    "print(f\"\\n🧮 Total time spent: {total_time} minutes\")\n",
    "\n",
    "# Display cleaned and formatted data\n",
    "task_header = \"{:<20} {:<15} {:<15}\".format('Tasks', 'Time(mins)', 'Status')\n",
    "print(\"\\n Clean Table with Uppercased Tasks and Status:\")\n",
    "print(task_header)\n",
    "print(\"-\" * len(task_header))\n",
    "\n",
    "for task, time, status in zip(upper_tasks, my_to_do['Time(mins)'], my_to_do['Status']):\n",
    "    print(\"{:<20} {:<15} {:<15}\".format(task, time, status.upper()))\n"
   ]
  },
  {
   "cell_type": "markdown",
   "id": "be68c2f7-2dea-4261-8576-df088900fbf2",
   "metadata": {},
   "source": [
    "---\n",
    "\n",
    "### ✅ Summary\n",
    "\n",
    "| Type    | Common Methods/Operations                                                                 |\n",
    "| ------- | ----------------------------------------------------------------------------------------- |\n",
    "| `int`   | `+`, `-`, `*`, `/`, `//`, `%`, `**`                                                       |\n",
    "| `str`   | `.lower()`, `.upper()`, `.strip()`, `.find()`, `.replace()`, `.split()`, `.join()`, `f\"\"` |\n",
    "| `list`  | `.append()`, `.insert()`, `.pop()`, `.sort()`, `.reverse()`, `.index()`, `.remove()`      |\n",
    "| `tuple` | `.count()`, `.index()`                                                                    |\n",
    "| `set`   | `.add()`, `.update()`, `.remove()`, `.discard()`, `.clear()`                              |\n",
    "| `dict`  | `.get()`, `.pop()`, `.keys()`, `.values()`, `.items()`, `in`                              |\n",
    "\n",
    "---\n"
   ]
  }
 ],
 "metadata": {
  "kernelspec": {
   "display_name": "Python [conda env:base] *",
   "language": "python",
   "name": "conda-base-py"
  },
  "language_info": {
   "codemirror_mode": {
    "name": "ipython",
    "version": 3
   },
   "file_extension": ".py",
   "mimetype": "text/x-python",
   "name": "python",
   "nbconvert_exporter": "python",
   "pygments_lexer": "ipython3",
   "version": "3.12.7"
  }
 },
 "nbformat": 4,
 "nbformat_minor": 5
}
