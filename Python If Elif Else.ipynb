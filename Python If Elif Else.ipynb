{
 "cells": [
  {
   "cell_type": "markdown",
   "id": "3ae97355",
   "metadata": {},
   "source": [
    "# Python `if`, `elif`, and `else` – By Jacob E."
   ]
  },
  {
   "cell_type": "markdown",
   "id": "540a9f4e",
   "metadata": {},
   "source": [
    "## Introductory Explanation\n",
    "Conditional statements (`if`, `elif`, `else`) let your Python program make decisions. They check conditions and choose which code block to run. For example, if you want to run some code only when a certain condition is true, you use an `if` statement. If that condition is false and you have more checks, you use `elif` (short for “else if”), and an optional `else` block handles all remaining cases.\n",
    "\n",
    "- **`if` statement**: Runs code only if the condition is `True`\n",
    "- **`elif` statement**: Additional condition(s) checked if previous ones were `False`\n",
    "- **`else` statement**: Runs when none of the previous conditions were `True`"
   ]
  },
  {
   "cell_type": "markdown",
   "id": "52557c28",
   "metadata": {},
   "source": [
    "## Syntax and Structure"
   ]
  },
  {
   "cell_type": "code",
   "execution_count": null,
   "id": "6442ac3e",
   "metadata": {},
   "outputs": [],
   "source": [
    "if condition1:\n",
    "    # code block if condition1 is True\n",
    "elif condition2:\n",
    "    # code block if condition2 is True and condition1 is False\n",
    "else:\n",
    "    # code block if all conditions are False"
   ]
  },
  {
   "cell_type": "markdown",
   "id": "f596259c",
   "metadata": {},
   "source": [
    "## Beginner-Friendly Examples"
   ]
  },
  {
   "cell_type": "code",
   "execution_count": null,
   "id": "e696541d",
   "metadata": {},
   "outputs": [],
   "source": [
    "# Example 1: Positive, Zero, or Negative\n",
    "number = int(input(\"Enter a number: \"))\n",
    "if number > 0:\n",
    "    print(\"Positive number\")\n",
    "elif number == 0:\n",
    "    print(\"Zero\")\n",
    "else:\n",
    "    print(\"Negative number\")"
   ]
  },
  {
   "cell_type": "code",
   "execution_count": null,
   "id": "011f2b96",
   "metadata": {},
   "outputs": [],
   "source": [
    "# Example 2: String comparison\n",
    "color = input(\"Enter your favorite color: \")\n",
    "if color == \"red\":\n",
    "    print(\"Roses are red\")\n",
    "elif color == \"blue\":\n",
    "    print(\"The sky is blue\")\n",
    "else:\n",
    "    print(\"Nice color!\")"
   ]
  },
  {
   "cell_type": "code",
   "execution_count": null,
   "id": "d651a721",
   "metadata": {},
   "outputs": [],
   "source": [
    "# Example 3: Nested if statements\n",
    "x = int(input(\"Enter X: \"))\n",
    "if x != 0:\n",
    "    print(\"X is nonzero\")\n",
    "    if x > 0:\n",
    "        print(\"X is positive\")\n",
    "    else:\n",
    "        print(\"X is negative\")\n",
    "else:\n",
    "    print(\"X is zero\")"
   ]
  },
  {
   "cell_type": "markdown",
   "id": "1fa7817e",
   "metadata": {},
   "source": [
    "## Common Mistakes and Debugging Tips\n",
    "- Missing colon (`:`) at the end of `if`, `elif`, or `else`\n",
    "- Incorrect indentation\n",
    "- Using `=` instead of `==`\n",
    "- Using `if` instead of `elif`, causing overlapping conditions"
   ]
  },
  {
   "cell_type": "markdown",
   "id": "9e0c0d33",
   "metadata": {},
   "source": [
    "## Practice Problems and Solutions"
   ]
  },
  {
   "cell_type": "code",
   "execution_count": null,
   "id": "44a1679d",
   "metadata": {},
   "outputs": [],
   "source": [
    "# Problem 1: Grading system\n",
    "score = int(input(\"Enter your score (0-100): \"))\n",
    "if score >= 90:\n",
    "    grade = \"A\"\n",
    "elif score >= 80:\n",
    "    grade = \"B\"\n",
    "elif score >= 70:\n",
    "    grade = \"C\"\n",
    "elif score >= 60:\n",
    "    grade = \"D\"\n",
    "else:\n",
    "    grade = \"F\"\n",
    "print(\"Grade:\", grade)"
   ]
  },
  {
   "cell_type": "code",
   "execution_count": null,
   "id": "4adfc8a2",
   "metadata": {},
   "outputs": [],
   "source": [
    "# Problem 2: Login check\n",
    "correct_user = \"admin\"\n",
    "correct_pass = \"secret\"\n",
    "user = input(\"Username: \")\n",
    "pw = input(\"Password: \")\n",
    "if user == correct_user and pw == correct_pass:\n",
    "    print(\"Login successful\")\n",
    "else:\n",
    "    print(\"Login failed\")"
   ]
  },
  {
   "cell_type": "code",
   "execution_count": null,
   "id": "a48d74d8",
   "metadata": {},
   "outputs": [],
   "source": [
    "# Problem 3: Traffic light logic\n",
    "light = input(\"Enter traffic light color (red/yellow/green): \")\n",
    "if light == \"red\":\n",
    "    print(\"Stop\")\n",
    "elif light == \"yellow\":\n",
    "    print(\"Caution\")\n",
    "elif light == \"green\":\n",
    "    print(\"Go\")\n",
    "else:\n",
    "    print(\"Invalid color\")"
   ]
  },
  {
   "cell_type": "code",
   "execution_count": null,
   "id": "5efedef6",
   "metadata": {},
   "outputs": [],
   "source": [
    "# Problem 4: Voting eligibility\n",
    "age = int(input(\"Enter age: \"))\n",
    "if age >= 18:\n",
    "    print(\"You are eligible to vote\")\n",
    "else:\n",
    "    print(\"You are not eligible to vote yet\")"
   ]
  },
  {
   "cell_type": "code",
   "execution_count": null,
   "id": "1bef43c0",
   "metadata": {},
   "outputs": [],
   "source": [
    "# Problem 5: Even and positive check\n",
    "num = int(input(\"Enter a number: \"))\n",
    "if num > 0 and num % 2 == 0:\n",
    "    print(\"Positive even\")\n",
    "elif num > 0:\n",
    "    print(\"Positive odd\")\n",
    "else:\n",
    "    print(\"Not positive\")"
   ]
  },
  {
   "cell_type": "code",
   "execution_count": null,
   "id": "fde94ec4",
   "metadata": {},
   "outputs": [],
   "source": [
    "# Problem 6: Leap year test\n",
    "year = int(input(\"Enter a year: \"))\n",
    "if (year % 4 == 0 and year % 100 != 0) or (year % 400 == 0):\n",
    "    print(year, \"is a leap year\")\n",
    "else:\n",
    "    print(year, \"is not a leap year\")"
   ]
  },
  {
   "cell_type": "markdown",
   "id": "d558b8eb",
   "metadata": {},
   "source": [
    "## Tips\n",
    "- Use meaningful conditions.\n",
    "- Avoid unnecessary nesting.\n",
    "- Prefer `elif` over multiple `if` where conditions are mutually exclusive.\n",
    "- Test your logic thoroughly."
   ]
  },
  {
   "cell_type": "markdown",
   "id": "ace16d29",
   "metadata": {},
   "source": [
    "## More Examples with Multiple `elif`"
   ]
  },
  {
   "cell_type": "code",
   "execution_count": null,
   "id": "cf315a75",
   "metadata": {},
   "outputs": [],
   "source": [
    "# Example: Day of the Week\n",
    "day_number = int(input(\"Enter a number (1-7): \"))\n",
    "if day_number == 1:\n",
    "    print(\"Monday\")\n",
    "elif day_number == 2:\n",
    "    print(\"Tuesday\")\n",
    "elif day_number == 3:\n",
    "    print(\"Wednesday\")\n",
    "elif day_number == 4:\n",
    "    print(\"Thursday\")\n",
    "elif day_number == 5:\n",
    "    print(\"Friday\")\n",
    "elif day_number == 6:\n",
    "    print(\"Saturday\")\n",
    "elif day_number == 7:\n",
    "    print(\"Sunday\")\n",
    "else:\n",
    "    print(\"Invalid day number\")"
   ]
  },
  {
   "cell_type": "code",
   "execution_count": null,
   "id": "96888f93",
   "metadata": {},
   "outputs": [],
   "source": [
    "# Example: Temperature Description\n",
    "temp = float(input(\"Enter the temperature in Celsius: \"))\n",
    "if temp <= 0:\n",
    "    print(\"Freezing cold\")\n",
    "elif temp <= 10:\n",
    "    print(\"Very Cold\")\n",
    "elif temp <= 20:\n",
    "    print(\"Cold\")\n",
    "elif temp <= 30:\n",
    "    print(\"Moderate\")\n",
    "elif temp <= 40:\n",
    "    print(\"Hot\")\n",
    "else:\n",
    "    print(\"Very Hot\")"
   ]
  },
  {
   "cell_type": "markdown",
   "id": "6fb3e8c5",
   "metadata": {},
   "source": [
    "## BMI Calculator Example"
   ]
  },
  {
   "cell_type": "code",
   "execution_count": null,
   "id": "897faf1c",
   "metadata": {},
   "outputs": [],
   "source": [
    "# BMI Calculator\n",
    "weight = float(input(\"Enter your weight in kilograms: \"))\n",
    "height = float(input(\"Enter your height in meters: \"))\n",
    "bmi = weight / (height ** 2)\n",
    "\n",
    "print(f\"Your BMI is: {bmi:.2f}\")\n",
    "\n",
    "if bmi < 18.5:\n",
    "    print(\"You are underweight.\")\n",
    "elif bmi < 25:\n",
    "    print(\"You have a normal weight.\")\n",
    "elif bmi < 30:\n",
    "    print(\"You are overweight.\")\n",
    "else:\n",
    "    print(\"You are obese.\")"
   ]
  }
 ],
 "metadata": {
  "kernelspec": {
   "display_name": "Python [conda env:base] *",
   "language": "python",
   "name": "conda-base-py"
  },
  "language_info": {
   "codemirror_mode": {
    "name": "ipython",
    "version": 3
   },
   "file_extension": ".py",
   "mimetype": "text/x-python",
   "name": "python",
   "nbconvert_exporter": "python",
   "pygments_lexer": "ipython3",
   "version": "3.12.7"
  }
 },
 "nbformat": 4,
 "nbformat_minor": 5
}
