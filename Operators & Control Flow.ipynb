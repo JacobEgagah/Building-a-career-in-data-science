{
 "cells": [
  {
   "cell_type": "markdown",
   "id": "19051439-3f93-4dba-8969-a82f7ab9f32e",
   "metadata": {},
   "source": [
    "---\n",
    "# Python Operators and Control Flow: \n",
    "**Operators** in Python are symbols or keywords that perform operations on data (values and variables). Think of them like verbs: for example, the `+` operator *adds*, the `and` operator *combines* conditions, etc. Python has several types of operators, each serving a different purpose:\n",
    "\n",
    "* **Arithmetic operators** (`+`, `-`, `*`, `/`, `//`, `%`, `**`): perform math operations.\n",
    "* **Comparison operators** (`==`, `!=`, `>`, `<`, `>=`, `<=`): compare values and yield `True` or `False`.\n",
    "* **Assignment operators** (`=`, `+=`, `-=`, etc.): assign values to variables.\n",
    "* **Logical operators** (`and`, `or`, `not`): combine boolean conditions.\n",
    "* **Bitwise operators** (`&`, `|`, `^`, `~`, `<<`, `>>`): work on individual bits of integers.\n",
    "* **Membership operators** (`in`, `not in`): check if a value is in a sequence (like a list or string).\n",
    "* **Identity operators** (`is`, `is not`): check if two variables point to the *same* object in memory.\n",
    "\n",
    "Each operator has a specific syntax and use. Below we explain each type with definitions and examples.\n",
    "---"
   ]
  },
  {
   "cell_type": "markdown",
   "id": "8a481869-8d82-45d9-859c-84c1c988870e",
   "metadata": {},
   "source": [
    "---\n",
    "## Arithmetic Operators\n",
    "Arithmetic operators perform basic math. For example, `+` adds and `-` subtracts. In Python:\n",
    "\n",
    "* `+` (Addition) – adds two numbers.\n",
    "* `-` (Subtraction) – subtracts one number from another.\n",
    "* `*` (Multiplication) – multiplies.\n",
    "* `/` (Division) – divides (returns a float).\n",
    "* `//` (Floor Division) – divides and takes the integer part (floors result).\n",
    "* `%` (Modulo) – gives the remainder of division.\n",
    "* `**` (Exponent) – raises a number to a power.\n",
    "\n",
    "For example:\n",
    "---"
   ]
  },
  {
   "cell_type": "code",
   "execution_count": 74,
   "id": "fabbac2b-66eb-4943-9be1-16ffef9124a5",
   "metadata": {},
   "outputs": [
    {
     "name": "stdout",
     "output_type": "stream",
     "text": [
      "13\n",
      "5\n",
      "36\n",
      "2.25\n",
      "2\n",
      "1\n",
      "6561\n"
     ]
    }
   ],
   "source": [
    "a = 9\n",
    "b = 4\n",
    "\n",
    "print(a + b)   # Addition: 9   \n",
    "print(a - b)   # Subtraction: 5  \n",
    "print(a * b)   # Multiplication: 14  \n",
    "print(a / b)   # Division: 3.5 (float)  \n",
    "print(a // b)  # Floor Division: 3  \n",
    "print(a % b)   # Modulo: 1  \n",
    "print(a ** b)  # Exponent: 7^2 = 49  \n",
    "\n",
    "#Each operator behaved like its arithmetic meaning. (Tip: In Python 3, `/` always gives a float. Use `//` for integer division.) A common mistake is confusing `/` and `//`: remember that `//` *floors* the result."
   ]
  },
  {
   "cell_type": "markdown",
   "id": "e1c65a2b-17ca-4e94-9bc3-d108aab871a4",
   "metadata": {},
   "source": [
    "## Comparison Operators\n",
    "Comparison operators compare two values and return a Boolean (`True` or `False`). They are used in conditions (e.g. `if` statements). The main ones are:\n",
    "\n",
    "* `==` (Equal to) – checks if two values are equal.\n",
    "* `!=` (Not equal to) – checks if two values are different.\n",
    "* `>` (Greater than) – checks if left value is bigger.\n",
    "* `<` (Less than) – checks if left value is smaller.\n",
    "* `>=` (Greater or equal) – left is bigger than or equal to right.\n",
    "* `<=` (Less or equal) – left is smaller than or equal to right.#Example:\n"
   ]
  },
  {
   "cell_type": "code",
   "execution_count": 46,
   "id": "60f3f704-9b0b-44fe-a2e2-0b68b0931b85",
   "metadata": {},
   "outputs": [
    {
     "name": "stdout",
     "output_type": "stream",
     "text": [
      "False\n",
      "True\n",
      "False\n",
      "True\n",
      "True\n",
      "False\n"
     ]
    }
   ],
   "source": [
    "x = 5\n",
    "y = 10\n",
    "\n",
    "print(x == y)  # False, because 5 is not equal to 10\n",
    "print(x != y)  # True, 5 is not equal to 10\n",
    "print(x > y)   # False\n",
    "print(x < y)   # True\n",
    "print(x >= 5)  # True (5 is equal to 5)\n",
    "print(x <= 4)  # False\n",
    "\n",
    "#This will print `False True False True True False`. In simple terms, comparisons are like questions that can only be `True` or `False`. (Tip: Don’t confuse `=` (assignment) with `==` (comparison).) "
   ]
  },
  {
   "cell_type": "markdown",
   "id": "2cda6cd1-48e1-48eb-8ee4-1959becb809a",
   "metadata": {},
   "source": [
    "---\n",
    "## Assignment Operators\n",
    "Assignment operators give values to variables. The basic one is `=` (equals). Others combine an operation with assignment:\n",
    "\n",
    "* `=` : simple assignment.\n",
    "* `+=` : add and assign (e.g. `a += 1` means `a = a + 1`).\n",
    "* `-=` : subtract and assign (e.g. `a -= 2` → `a = a - 2`).\n",
    "* `*=` : multiply and assign.\n",
    "* `/=` : divide and assign.\n",
    "* `%=` : modulo and assign.\n",
    "* `**=`: exponent and assign.\n",
    "* `//=`: floor divide and assign.\n",
    "---"
   ]
  },
  {
   "cell_type": "code",
   "execution_count": 48,
   "id": "34a828f1-91c3-401e-a13f-a865dc93ced0",
   "metadata": {},
   "outputs": [
    {
     "name": "stdout",
     "output_type": "stream",
     "text": [
      "15\n",
      "12\n"
     ]
    }
   ],
   "source": [
    "#Example:\n",
    "n = 10\n",
    "n += 5   # same as n = n + 5\n",
    "print(n)  # 15\n",
    "\n",
    "m = 3\n",
    "m *= 4   # same as m = m * 4\n",
    "print(m)  # 12\n",
    "#After these operations, `n` becomes 15 and `m` becomes 12. Assignment operators always change the variable on the left by the calculation on the right. (Tip: Remember `x += 1` is *not* new variable declaration; it modifies `x`.)"
   ]
  },
  {
   "cell_type": "markdown",
   "id": "849f602b-f100-4ad5-a221-c261b57b433f",
   "metadata": {},
   "source": [
    "---\n",
    "## Logical Operators\n",
    "Logical operators combine or invert Boolean values (True/False):\n",
    "\n",
    "* `and` – **True** if **both** sides are True.\n",
    "* `or`  – **True** if **at least one** side is True.\n",
    "* `not` – **True** if the value is False (it inverts).\n",
    "\n",
    "These are often used in conditions:\n",
    "---"
   ]
  },
  {
   "cell_type": "code",
   "execution_count": 50,
   "id": "09066b8f-4a4d-4441-aca5-54c90d6d8a70",
   "metadata": {},
   "outputs": [
    {
     "name": "stdout",
     "output_type": "stream",
     "text": [
      "False\n",
      "True\n",
      "False\n"
     ]
    }
   ],
   "source": [
    "a = True\n",
    "b = False\n",
    "\n",
    "print(a and b)  # False (one side is False)\n",
    "print(a or b)   # True  (at least one side is True)\n",
    "print(not a)    # False (inverts a)\n",
    "\n",
    "#Output: `False True False`. Think of `and` like needing two conditions to both pass, `or` like needing one, and `not` as “not this.” In code, they let you combine checks: e.g. `if x > 0 and x < 10:` means “if x is between 0 and 10.” A common mistake is mixing `and` with `&` (bitwise) – use `and`, `or`, `not` for logical conditions.\n"
   ]
  },
  {
   "cell_type": "markdown",
   "id": "fd98902e-4659-46fd-b248-a54d19b50385",
   "metadata": {},
   "source": [
    "---\n",
    "## Bitwise Operators\n",
    "Bitwise operators work on the **binary (bit)** representation of integers. They perform bit-by-bit operations:\n",
    "\n",
    "* `&` (Bitwise AND) – compares bits of two numbers, yields 1 only if *both* bits are 1.\n",
    "* `|` (Bitwise OR) – yields 1 if *at least one* bit is 1.\n",
    "* `^` (Bitwise XOR) – yields 1 only if the bits are different.\n",
    "* `~` (Bitwise NOT) – inverts all bits (gives the complement).\n",
    "* `<<` (Left shift) – shifts bits to the left (fills with 0s on right).\n",
    "* `>>` (Right shift) – shifts bits to the right.\n",
    "---"
   ]
  },
  {
   "cell_type": "code",
   "execution_count": 52,
   "id": "cc3d3a85-9a69-45af-8d20-2e49760e1085",
   "metadata": {},
   "outputs": [
    {
     "name": "stdout",
     "output_type": "stream",
     "text": [
      "0\n",
      "14\n",
      "14\n",
      "-11\n",
      "40\n",
      "5\n"
     ]
    }
   ],
   "source": [
    "#Example:\n",
    "a = 10    # binary 1010\n",
    "b = 4     # binary 0100\n",
    "\n",
    "print(a & b)  # 0  (1010 & 0100 = 0000 in binary)\n",
    "print(a | b)  # 14 (1010 | 0100 = 1110 in binary)\n",
    "print(a ^ b)  # 14 (1010 ^ 0100 = 1110, because bits differ)\n",
    "print(~a)     # -11 (bitwise NOT of 1010 gives ...11110101 in two's complement)\n",
    "print(a << 2) # 40 (shifts 1010 left to 101000)\n",
    "print(a >> 1) # 5  (shifts 1010 right to 0101)\n",
    "\n",
    "# Bitwise operators treat numbers as a sequence of bits. They are less commonly used by beginners, but can be useful in low-level tasks. (Tip: Bitwise operations can produce negative results because of how Python represents negative integers in binary.)"
   ]
  },
  {
   "cell_type": "markdown",
   "id": "c3eebf3a-0769-4452-b867-108983bdb118",
   "metadata": {},
   "source": [
    "---\n",
    "## Membership Operators\n",
    "Membership operators test whether a value is in a sequence (like a list, string, or tuple):\n",
    "\n",
    "* `in` – **True** if the value is found in the sequence.\n",
    "* `not in` – **True** if the value is *not* found in the sequence.\n",
    "---"
   ]
  },
  {
   "cell_type": "code",
   "execution_count": 54,
   "id": "3decd92f-8a34-4dae-b100-7108a4810c6f",
   "metadata": {},
   "outputs": [
    {
     "name": "stdout",
     "output_type": "stream",
     "text": [
      "True\n",
      "True\n"
     ]
    }
   ],
   "source": [
    "#Example:\n",
    "fruits = [\"apple\", \"banana\", \"cherry\"]\n",
    "print(\"apple\" in fruits)      # True\n",
    "print(\"orange\" not in fruits) # True\n",
    "#This checks membership in collections. (Analogy: \"`in` is like asking *‘Is this item on the list?’*\".)"
   ]
  },
  {
   "cell_type": "markdown",
   "id": "d6f13970-64c4-40c0-97d4-921be0912e8a",
   "metadata": {},
   "source": [
    "---\n",
    "## Identity Operators\n",
    "Identity operators check if two references are to the **same object** in memory (not just equal values):\n",
    "\n",
    "* `is`     – True if both variables point to the same object.\n",
    "* `is not` – True if they do *not* point to the same object.\n",
    "---"
   ]
  },
  {
   "cell_type": "code",
   "execution_count": 56,
   "id": "978ca7a9-0e28-49e8-8f9a-6b7b9b7405a5",
   "metadata": {},
   "outputs": [
    {
     "name": "stdout",
     "output_type": "stream",
     "text": [
      "True\n",
      "False\n",
      "True\n"
     ]
    }
   ],
   "source": [
    "#Example:\n",
    "a = [1, 2, 3]\n",
    "b = a\n",
    "c = [1, 2, 3]\n",
    "\n",
    "print(a is b)     # True  (b refers to the same list as a)\n",
    "print(a is c)     # False (c is an equal list but a different object)\n",
    "print(a == c)     # True  (== compares values and says they match)\n",
    "\n",
    "#Here `a is b` is `True` because they share the same object, but `a is c` is `False` even though they look the same. (Use `==` to compare values for equality; use `is` mostly for things like checking if something is `None`.)"
   ]
  },
  {
   "cell_type": "markdown",
   "id": "dbc537e2-318e-442a-86bf-1f89d9f4985f",
   "metadata": {},
   "source": [
    "## Control Flow in Python\n",
    "**Control flow** is how a program decides *which* code to run next. By default, Python executes statements from top to bottom. Control flow statements like `if`, loops (`for`, `while`), and jumps (`break`, `continue`) change this order based on conditions or repetition. In other words, they let your program make decisions or repeat tasks.\n",
    "\n",
    "### `if`, `elif`, `else` Statements\n",
    "`if` statements allow code to run only when a condition is true. The basic form is:"
   ]
  },
  {
   "cell_type": "code",
   "execution_count": null,
   "id": "4f6c169f-9ad3-4dce-8161-a0bd8ffa0d67",
   "metadata": {},
   "outputs": [],
   "source": [
    "if condition:\n",
    "    # code runs when condition is True\n",
    "elif another_condition:\n",
    "    # code runs if first condition was False but this one is True\n",
    "else:\n",
    "    # code runs if all above conditions were False"
   ]
  },
  {
   "cell_type": "code",
   "execution_count": null,
   "id": "bb46e5b4-acde-4131-9e59-99fdd04a1786",
   "metadata": {},
   "outputs": [],
   "source": [
    "#Example:\n",
    "number = -5\n",
    "\n",
    "if number > 0:\n",
    "    print(\"Positive\")\n",
    "elif number < 0:\n",
    "    print(\"Negative\")\n",
    "else:\n",
    "    print(\"Zero\")\n",
    "\n",
    "print(\"Done\")"
   ]
  },
  {
   "cell_type": "markdown",
   "id": "fc9ea218-e6c7-4ff6-806f-c0659955aedd",
   "metadata": {},
   "source": [
    "Since `number` is -5, the first condition is false. Python checks `elif number < 0` which is true, so it prints `Negative`. It then skips the `else`. The final `print(\"Done\")` runs regardless. \n",
    "\n",
    ">Note that only one block executes (the first true one).\n",
    "\n",
    ">>*Tips & common mistakes:* Always end the `if` or `elif` line with a colon (`:`) and indent the body. Forgetting the colon or mis-indenting is a common syntax error. You can have many `elif` branches or omit them. Use `if` without `elif/else` if you only need one condition.\n",
    "\n",
    "*Analogy:* Think of `if`/`else` like a fork in the road: *“If* it’s raining, take an umbrella; *else* don’t.”\n",
    "\n",
    "### `for` Loops\n",
    "A `for` loop lets you execute a block of code once for each item in a sequence (like a list or string). Syntax:"
   ]
  },
  {
   "cell_type": "code",
   "execution_count": null,
   "id": "8899400e-659a-48f2-bc00-869ec199caf6",
   "metadata": {},
   "outputs": [],
   "source": [
    "for variable in sequence:\n",
    "    # code using variable"
   ]
  },
  {
   "cell_type": "code",
   "execution_count": 77,
   "id": "3c2adf1a-0d72-4cb1-9f3a-82f03d83b692",
   "metadata": {},
   "outputs": [
    {
     "name": "stdout",
     "output_type": "stream",
     "text": [
      "I am learning Python\n",
      "I am learning SQL\n",
      "I am learning Statistics\n"
     ]
    }
   ],
   "source": [
    "#Example:\n",
    "languages = ['Python', 'SQL', 'Statistics']\n",
    "\n",
    "for lang in languages:\n",
    "    print(\"I am learning\", lang)\n",
    "# Here the loop runs 3 times, once for each element. In each iteration, `lang` takes the next value from `languages`. The loop finishes after the last item."
   ]
  },
  {
   "cell_type": "markdown",
   "id": "abe87c2e-2b30-445c-98df-03e620b17dd7",
   "metadata": {},
   "source": [
    ">>*Tips:* Remember to indent the loop body under the `for:` line. If you don’t use the loop variable inside, you can name it `_`. Also, loops use up the sequence in order (the first item, then second, etc.).\n",
    "\n",
    "*Analogy:* A `for` loop is like scanning through a list: for each element, do something with it.\n",
    "\n",
    "### `while` Loops\n",
    "A `while` loop repeats code **as long as a condition is true**. Syntax:"
   ]
  },
  {
   "cell_type": "code",
   "execution_count": null,
   "id": "d85001da-4292-4ae4-b2d3-5d9a5282dad8",
   "metadata": {},
   "outputs": [],
   "source": [
    "while condition:\n",
    "    # code to repeat"
   ]
  },
  {
   "cell_type": "code",
   "execution_count": 79,
   "id": "0d3b1021-1950-4e31-9879-52619ba1377a",
   "metadata": {},
   "outputs": [
    {
     "name": "stdout",
     "output_type": "stream",
     "text": [
      "Count is 1\n",
      "Count is 2\n",
      "Count is 3\n"
     ]
    }
   ],
   "source": [
    "#Example:\n",
    "count = 1\n",
    "while count <= 3:\n",
    "    print(\"Count is\", count)\n",
    "    count = count + 1\n",
    "#The loop prints the count and then increments it. When `count` becomes 4, `count <= 3` is false, and the loop stops."
   ]
  },
  {
   "cell_type": "markdown",
   "id": "3d30ff52-6f7b-4cd4-a7a3-10c6a276abe8",
   "metadata": {},
   "source": [
    ">>*Tips:* Make sure the condition will eventually become false, or you’ll get an **infinite loop**. For example, if you forgot `count = count + 1` above, the loop would never end. As a rule, update the variables in the loop so the condition changes. Use `while True:` with a `break` inside only if you truly need an exit in the middle.\n",
    "\n",
    "*Analogy:* A `while` loop is like saying “keep doing this as long as the sign says go.”\n",
    "\n",
    "### `break`, `continue`, and `pass`\n",
    "These are special statements that change loop flow:\n",
    "* `break`: **exit** the nearest enclosing loop immediately.\n",
    "* `continue`: **skip** to the next iteration of the loop.\n",
    "* `pass`: **do nothing** – it’s a placeholder that satisfies Python syntax but has no effect.# break example:"
   ]
  },
  {
   "cell_type": "code",
   "execution_count": 81,
   "id": "025e5e54-8420-4e59-8f95-07a68c1e0d94",
   "metadata": {},
   "outputs": [
    {
     "name": "stdout",
     "output_type": "stream",
     "text": [
      "1\n",
      "2\n",
      "3\n"
     ]
    }
   ],
   "source": [
    "for i in range(1, 6):\n",
    "    if i == 4:\n",
    "        break\n",
    "    print(i)"
   ]
  },
  {
   "cell_type": "code",
   "execution_count": 83,
   "id": "a89bc158-6cd1-4fdf-a9d6-81b298b22ccc",
   "metadata": {},
   "outputs": [
    {
     "name": "stdout",
     "output_type": "stream",
     "text": [
      "1\n",
      "2\n",
      "4\n",
      "5\n"
     ]
    }
   ],
   "source": [
    "# continue example\n",
    "for i in range(1, 6):\n",
    "    if i == 3:\n",
    "        continue\n",
    "    print(i)"
   ]
  },
  {
   "cell_type": "code",
   "execution_count": 85,
   "id": "02c07e1e-529e-4142-a5d6-96a0f1141dc0",
   "metadata": {},
   "outputs": [
    {
     "name": "stdout",
     "output_type": "stream",
     "text": [
      "Finished\n"
     ]
    }
   ],
   "source": [
    "# pass example\n",
    "i = 5\n",
    "if i > 10:\n",
    "    pass  # (do nothing for now)\n",
    "print(\"Finished\")"
   ]
  },
  {
   "cell_type": "markdown",
   "id": "32367fcd-712e-4d39-a280-d204b455674d",
   "metadata": {},
   "source": [
    "* In the first loop, when `i` is 4, `break` stops the loop, so it only prints 1, 2, 3.\n",
    "* In the second loop, when `i` is 3, `continue` skips the `print` for that iteration and moves to the next, so it prints all numbers except 3.\n",
    "* The `pass` statement does nothing; it’s useful when a statement is syntactically required but you don’t want any action (for example, as a stub in an empty function or conditional).\n",
    "\n",
    ">>*Tip:* Use `break` to get out of loops early, and `continue` to skip. Avoid forgetting to indent after them.\n",
    "\n",
    "---\n",
    "\n",
    "## Tips, Common Mistakes, and Analogies\n",
    "* **Indentation:** Python uses indentation to group code. Always indent blocks (after `if`, `for`, etc.) consistently (usually 4 spaces). Forgetting or mis-aligning indentation is a very common error.\n",
    "* **Colons:** Remember the colon (`:`) after `if`, `for`, `while`, `elif`, `else`. Missing a colon is a syntax error.\n",
    "* **Equality vs Assignment:** Use `==` to compare values, and `=` to assign. For example, writing `if x = 5:` is wrong; you must write `if x == 5:` for comparison.\n",
    "* **Loop Variables:** In a `while` loop, update the loop variable so the loop can stop. For example, change `x = x + 1` or use a counter. Otherwise the loop may never end (infinite loop). This was noted as a common pitfall.\n",
    "* **`is` vs `==`:** For checking value equality, use `==`. The `is` operator checks for identical objects (useful mostly for things like `if var is None`).\n",
    "* **Operator Errors:** Division `/` vs floor division `//` can trip beginners. Also note that `%` has higher precedence than `*` and `/`. When in doubt, use parentheses.\n",
    "* **Analogy – If/Else:** Think of `if` as asking a yes/no question. If yes, do this; otherwise, try another question or do something else.\n",
    "* **Analogy – Loops:** A `for` loop is like telling the computer “for each item in my list, do the following.” A `while` loop is like “repeat this action until the condition changes.”\n",
    "\n",
    ">Always test small pieces of code and print intermediate results to see how they work. And when in doubt, print out variables inside loops or conditions to check what’s happening.\n",
    "\n",
    "---"
   ]
  },
  {
   "cell_type": "markdown",
   "id": "ed027aea-c42c-4a01-bec3-03acdb2c3afc",
   "metadata": {},
   "source": [
    "## Practice Exercises\n",
    "\n",
    "Try these small tasks to check your understanding. After each, think about what the code will do, then compare with the explanation.\n",
    "\n",
    "1. **Arithmetic and Comparison:**\n",
    "\n",
    "   ```python\n",
    "   x = 8\n",
    "   y = 3\n",
    "   print(x % y)\n",
    "   print(x // y)\n",
    "   print(x > y)\n",
    "   ```\n",
    "\n",
    "   **Question:** What does this print? Explain each line.\n",
    "   **Answer:**\n",
    "\n",
    "   * `x % y` is `8 % 3`, the remainder when 8 is divided by 3. That is 2.\n",
    "   * `x // y` is `8 // 3`, the floor division (integer part), which is 2 as well (since 8/3 is 2.666, floored to 2).\n",
    "   * `x > y` checks if 8 is greater than 3, which is `True`.\n",
    "       (This tests arithmetic `%` and `//`, and the comparison `>`.)\n",
    "\n",
    "2. **Logical Operators:**\n",
    "\n",
    "   ```python\n",
    "   a = True\n",
    "   b = False\n",
    "   c = 5\n",
    "   print(a and b)\n",
    "   print(a or b)\n",
    "   print(not (c > 10))\n",
    "   ```\n",
    "\n",
    "   **Question:** What is the output, and why?\n",
    "   **Answer:**\n",
    "\n",
    "   * `a and b` is `True and False`, which is `False` (both must be true for `and`).\n",
    "   * `a or b` is `True or False`, which is `True` (at least one is true).\n",
    "   * `c > 10` is `5 > 10`, which is `False`; then `not (False)` is `True`.\n",
    "     So the program prints:\n",
    "\n",
    "   ```\n",
    "   False\n",
    "   True\n",
    "   True\n",
    "   ```\n",
    "\n",
    "3. **If/Else:**\n",
    "\n",
    "   ```python\n",
    "   num = 0\n",
    "   if num:\n",
    "       print(\"Non-zero\")\n",
    "   else:\n",
    "       print(\"Zero\")\n",
    "   ```\n",
    "\n",
    "   **Question:** What will this print? (Hint: In Python, `if num:` checks truthiness.)\n",
    "   **Answer:**\n",
    "   In Python, `if num:` checks if `num` is nonzero (non-zero numbers are treated as True). Since `num` is 0, it is falsey, so the `else` branch runs. It prints:\n",
    "\n",
    "   ```\n",
    "   Zero\n",
    "   ```\n",
    "\n",
    "   (This shows that 0 is treated as False in conditions.)\n",
    "\n",
    "4. **For Loop with Break:**\n",
    "\n",
    "   ```python\n",
    "   words = [\"go\", \"stop\", \"go\", \"wait\"]\n",
    "   for w in words:\n",
    "       if w == \"stop\":\n",
    "           break\n",
    "       print(w)\n",
    "   ```\n",
    "\n",
    "   **Question:** Which words are printed, and why?\n",
    "   **Answer:**\n",
    "   The loop iterates through `words`. It prints each word until it sees `\"stop\"`. When `w == \"stop\"`, it executes `break` and exits the loop immediately. So it prints:\n",
    "\n",
    "   ```\n",
    "   go\n",
    "   ```\n",
    "\n",
    "   only the first element (`\"go\"`), then stops. (It doesn’t print `\"stop\"` or anything after, because of the break.)\n",
    "\n",
    "5. **While Loop with Continue:**\n",
    "\n",
    "   ```python\n",
    "   i = 1\n",
    "   while i < 5:\n",
    "       i += 1\n",
    "       if i == 3:\n",
    "           continue\n",
    "       print(i)\n",
    "   ```\n",
    "\n",
    "   **Question:** What is the output? Step through each iteration.\n",
    "   **Answer:**\n",
    "\n",
    "   * Initially `i = 1`. Check `i < 5` (1<5 True). Inside loop, `i` becomes 2. Then `if i == 3` is False (2≠3), so it prints `2`.\n",
    "   * Next loop: `i = 2` at start, `2 < 5` True. `i` becomes 3. Now `i == 3` is True, so `continue` runs: it skips the `print` and restarts the loop. Nothing printed this round.\n",
    "   * Next loop: `i = 3`, `3 < 5` True. `i` becomes 4. `i == 3` is False, print `4`.\n",
    "   * Next: `i = 4`, `4 < 5` True. `i` becomes 5. `i == 3` is False, print `5`.\n",
    "   * Next: `i = 5`, `5 < 5` is False, loop ends.\n",
    "\n",
    "   (3 is skipped because when `i` became 3, `continue` skipped that print.)\n",
    "\n",
    "Each of these exercises shows how operators and control flow work. Try modifying values or conditions to see different results. Don’t hesitate to experiment in a Python interpreter!"
   ]
  }
 ],
 "metadata": {
  "kernelspec": {
   "display_name": "Python [conda env:base] *",
   "language": "python",
   "name": "conda-base-py"
  },
  "language_info": {
   "codemirror_mode": {
    "name": "ipython",
    "version": 3
   },
   "file_extension": ".py",
   "mimetype": "text/x-python",
   "name": "python",
   "nbconvert_exporter": "python",
   "pygments_lexer": "ipython3",
   "version": "3.12.7"
  }
 },
 "nbformat": 4,
 "nbformat_minor": 5
}
