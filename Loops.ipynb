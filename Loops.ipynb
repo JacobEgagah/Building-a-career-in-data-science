{
 "cells": [
  {
   "cell_type": "markdown",
   "id": "508bf6a3-862a-451f-acb5-d4c8bdcd8ac5",
   "metadata": {},
   "source": [
    "# Python Loops: \n",
    "## Introduction to Loops\n",
    "Loops are programming constructs that **repeat** a block of code multiple times, allowing us to perform tasks efficiently without writing repetitive code. In Python, the two main loop types are **for loops** (which iterate over a sequence of items) and **while loops** (which repeat as long as a condition remains true). Use a *for loop* when you know the number of iterations in advance (for example, iterating through a list), and use a *while loop* when you want to repeat until a certain condition changes (such as waiting for user input).\n",
    "\n",
    "* **For loops** automatically traverse a sequence (like a list, string, or range) one item at a time. For example, `for fruit in [\"apple\", \"banana\", \"cherry\"]:` repeats for each fruit.\n",
    "* **While loops** execute as long as a given condition is `True`. You must manually update the loop condition; otherwise, the loop may run forever (an *infinite loop*).\n",
    "\n",
    "Here’s a simple example showing both types:"
   ]
  },
  {
   "cell_type": "code",
   "execution_count": 24,
   "id": "5fcb3fe0-8655-4dd8-a548-0e1f4f02079b",
   "metadata": {},
   "outputs": [
    {
     "name": "stdout",
     "output_type": "stream",
     "text": [
      "apple\n",
      "banana\n",
      "cherry\n",
      "\n"
     ]
    }
   ],
   "source": [
    "# Using a for loop to iterate over a list\n",
    "fruits = [\"apple\", \"banana\", \"cherry\"]\n",
    "for fruit in fruits:         # for-loop begins\n",
    "    print(fruit)             # prints each fruit in the list\n",
    "\n",
    "print()  # blank line for separation"
   ]
  },
  {
   "cell_type": "code",
   "execution_count": null,
   "id": "470bdf79-c4f5-4a4d-adf7-c8ee5f9d676f",
   "metadata": {},
   "outputs": [],
   "source": [
    "# Using a while loop to repeat until a condition is False\n",
    "count = 0\n",
    "while count < 3:             # while-loop with condition\n",
    "    print(count)             # prints current count (0, 1, 2)\n",
    "    count += 1               # update the loop variable to avoid infinite loop## For Loops"
   ]
  },
  {
   "cell_type": "markdown",
   "id": "772ad780-0c5d-4028-96b3-730d09d6c9c9",
   "metadata": {},
   "source": [
    "A **for loop** in Python repeats a block of code for each item in a *sequence* (like a list, tuple, string, or range). The basic syntax is:"
   ]
  },
  {
   "cell_type": "code",
   "execution_count": null,
   "id": "20df677b-464e-4891-8528-8ab554a56f5c",
   "metadata": {},
   "outputs": [],
   "source": [
    "for item in sequence:\n",
    "    # code block to repeat"
   ]
  },
  {
   "cell_type": "code",
   "execution_count": 28,
   "id": "344c7192-be02-4cbd-943a-7371cfe3e240",
   "metadata": {},
   "outputs": [
    {
     "name": "stdout",
     "output_type": "stream",
     "text": [
      "10\n",
      "20\n",
      "30\n"
     ]
    }
   ],
   "source": [
    "# Example: looping over a list of numbers\n",
    "numbers = [10, 20, 30]\n",
    "for num in numbers:       # iterates through each element in the list\n",
    "    print(num)            # print the current element"
   ]
  },
  {
   "cell_type": "code",
   "execution_count": null,
   "id": "4259ee8d-8902-44f3-9002-8c14a584b1ab",
   "metadata": {},
   "outputs": [],
   "source": [
    "# Looping over a string\n",
    "word = \"Hello\"\n",
    "for char in word:         # iterates through each character in the string\n",
    "    print(char)           # prints each character on a new line"
   ]
  },
  {
   "cell_type": "code",
   "execution_count": null,
   "id": "ddae1199-7f48-4eb5-abe0-a941fc582da9",
   "metadata": {},
   "outputs": [],
   "source": [
    "# Looping over a range of integers\n",
    "for i in range(5):       # range(5) produces 0,1,2,3,4\n",
    "    print(i)             # prints numbers 0 through 4\n",
    "#Each of the above loops executes its print statement for every element in the given sequence. Python’s `range(n)` function generates a sequence of integers from 0 to *n-1*, which is commonly used in for loops (for example, `for i in range(3):` runs with `i` = 0, 1, 2)."
   ]
  },
  {
   "cell_type": "markdown",
   "id": "fd9e32d8-88ba-4081-847b-9ab6b55043f1",
   "metadata": {},
   "source": [
    "### Loop Control: `break`, `continue`, and `pass`\n",
    "Python provides **loop control statements** to manage loop execution:\n",
    "* `break` stops the entire loop immediately (exiting the loop).\n",
    "* `continue` skips the rest of the current loop iteration and moves to the next iteration.\n",
    "* `pass` does nothing and is a no-op; it’s often used as a placeholder in code where a statement is syntactically required.\n",
    "Examples:"
   ]
  },
  {
   "cell_type": "code",
   "execution_count": 6,
   "id": "852f4788-dd68-4aad-aaf2-5627a66d9bcf",
   "metadata": {},
   "outputs": [
    {
     "name": "stdout",
     "output_type": "stream",
     "text": [
      "0\n",
      "1\n",
      "2\n",
      "\n"
     ]
    }
   ],
   "source": [
    "# Using break to exit the loop early\n",
    "for i in range(5):\n",
    "    if i == 3:\n",
    "        break        # exit loop when i equals 3\n",
    "    print(i)         # prints 0,1,2 and then exits loop at i==3\n",
    "\n",
    "print()  # blank line"
   ]
  },
  {
   "cell_type": "code",
   "execution_count": null,
   "id": "27577cb2-a687-4457-88aa-409cb48100ef",
   "metadata": {},
   "outputs": [],
   "source": [
    "# Using continue to skip one iteration\n",
    "for i in range(5):\n",
    "    if i == 2:\n",
    "        continue     # skip printing when i equals 2\n",
    "    print(i)         # prints 0,1,3,4 (skips 2)\n",
    "    \n",
    "print()  # blank line"
   ]
  },
  {
   "cell_type": "code",
   "execution_count": 8,
   "id": "5b45dc7a-3d85-4bbd-ab89-a9a348987284",
   "metadata": {},
   "outputs": [],
   "source": [
    "# Using pass as a placeholder (does nothing)\n",
    "for i in [1, 2, 3]:\n",
    "    pass           # loop does nothing for each item (placeholder)\n",
    "\n",
    "#For interactivity, you can also use `input()` in a for loop, e.g.:"
   ]
  },
  {
   "cell_type": "code",
   "execution_count": null,
   "id": "15753f08-4102-4469-a50e-d7233022f1b6",
   "metadata": {},
   "outputs": [],
   "source": [
    "# Interactive example: ask user for how many times to loop\n",
    "times = int(input(\"How many times to loop? \"))\n",
    "for i in range(times):\n",
    "    print(\"Loop number\", i)"
   ]
  },
  {
   "cell_type": "markdown",
   "id": "b5324f00-b1ce-42f6-9f82-da0b63963b58",
   "metadata": {},
   "source": [
    "### Nested `for` Loops\n",
    "A **nested loop** is a loop inside another loop. The outer loop runs once for each iteration of the inner loop. Nested loops are useful for working with grids, tables, or any scenario where you need to iterate over multiple dimensions. For example:"
   ]
  },
  {
   "cell_type": "code",
   "execution_count": null,
   "id": "a2f3ed32-e21a-4211-8dbe-14bd1f1f34be",
   "metadata": {},
   "outputs": [],
   "source": [
    "# Nested for loop example: print pairs of numbers\n",
    "for i in range(1, 4):        # outer loop (i = 1,2,3)\n",
    "    for j in range(1, 3):    # inner loop (j = 1,2)\n",
    "        print(i, j)          # prints (1,1), (1,2), (2,1), (2,2), (3,1), (3,2)"
   ]
  },
  {
   "cell_type": "markdown",
   "id": "95b3fc84-d74f-4f96-80ce-e5cfad86cf4f",
   "metadata": {},
   "source": [
    "### `for` Loop with `else`\n",
    "\n",
    "In Python, a loop can have an **optional `else` clause**. The `else` block runs *after* the loop finishes normally (i.e. when no `break` occurred). If the loop is terminated by a `break`, the `else` block is skipped. Example:"
   ]
  },
  {
   "cell_type": "code",
   "execution_count": 32,
   "id": "94b1c35e-8345-4acf-b06b-c5441b259518",
   "metadata": {},
   "outputs": [
    {
     "name": "stdout",
     "output_type": "stream",
     "text": [
      "0\n",
      "1\n",
      "2\n",
      "Loop ended without break\n",
      "\n"
     ]
    }
   ],
   "source": [
    "# for-loop with else (no break occurs)\n",
    "for i in range(3):\n",
    "    print(i)\n",
    "else:\n",
    "    print(\"Loop ended without break\")\n",
    "\n",
    "print()  # blank line"
   ]
  },
  {
   "cell_type": "code",
   "execution_count": null,
   "id": "06d6c5af-ecf7-4fb5-bcee-dd00e940b349",
   "metadata": {},
   "outputs": [],
   "source": [
    "# for-loop with break (else block is skipped)\n",
    "for i in range(5):\n",
    "    if i == 2:\n",
    "        break\n",
    "    print(i)\n",
    "else:\n",
    "    print(\"This else block will NOT execute because of break.\")"
   ]
  },
  {
   "cell_type": "markdown",
   "id": "4fb76d0d-cfd8-4a3d-88e4-e46b29d89a9a",
   "metadata": {},
   "source": [
    "## While Loops\n",
    "A **while loop** repeats a block of code *as long as* a given condition is `True`. The syntax is:\n",
    "```python\n",
    "while condition:\n",
    "    # code block\n",
    "```\n",
    "For example:"
   ]
  },
  {
   "cell_type": "code",
   "execution_count": null,
   "id": "4cbb59ea-5ff2-4df1-9a3f-806e989f24bf",
   "metadata": {},
   "outputs": [],
   "source": [
    "count = 0\n",
    "while count < 5:          # loop continues as long as condition is true\n",
    "    print(count)\n",
    "    count += 1           # make sure to update loop variable\n",
    "\n",
    "#This prints `0, 1, 2, 3, 4` and then exits when `count` becomes 5 (condition false)."
   ]
  },
  {
   "cell_type": "markdown",
   "id": "ace5cea4-1e75-4cd1-a861-9b8b5ce69d73",
   "metadata": {},
   "source": [
    ">Loop control (`break`, `continue`, `pass`) works the same way inside a `while` loop as in a `for` loop. For example:"
   ]
  },
  {
   "cell_type": "code",
   "execution_count": null,
   "id": "2bd95592-240a-4daa-8494-830ebb9a0295",
   "metadata": {},
   "outputs": [],
   "source": [
    "# Using break in a while loop\n",
    "count = 0\n",
    "while count < 5:\n",
    "    if count == 3:\n",
    "        break         # exit loop when count == 3\n",
    "    print(count)      # prints 0,1,2\n",
    "    count += 1\n",
    "\n",
    "print(\"Exited while loop due to break\\n\")"
   ]
  },
  {
   "cell_type": "code",
   "execution_count": null,
   "id": "96c281ea-d743-4ee2-8ea1-e0f88e76e71a",
   "metadata": {},
   "outputs": [],
   "source": [
    "# Using continue in a while loop\n",
    "count = 0\n",
    "while count < 5:\n",
    "    count += 1\n",
    "    if count < 3:\n",
    "        continue      # skip printing when count is 1 or 2\n",
    "    print(\"Count is now\", count)"
   ]
  },
  {
   "cell_type": "markdown",
   "id": "d3bef18e-fc79-40a2-afd2-15d8b414aeea",
   "metadata": {},
   "source": [
    "> Beware of infinite loops (this loop never ends)\n",
    "```python\n",
    "while True:\n",
    "    pass  # without a break or change, this loop would run forever\n",
    "```"
   ]
  },
  {
   "cell_type": "markdown",
   "id": "2e0d285f-1407-4cc6-91c0-0a6d23d66220",
   "metadata": {},
   "source": [
    "### Infinite Loops and Avoidance\n",
    "An **infinite loop** occurs when the loop’s exit condition is never met, causing it to run forever. A common cause is forgetting to update the loop control variable or using `while True` without a `break`. For example:"
   ]
  },
  {
   "cell_type": "markdown",
   "id": "30d6507f-544f-496b-bacb-66b9a7380c24",
   "metadata": {},
   "source": [
    ">To avoid infinite loops, ensure the loop variable is updated and that the condition will eventually become false. You can also use `break` inside a `while True` loop with a condition, e.g.:"
   ]
  },
  {
   "cell_type": "code",
   "execution_count": null,
   "id": "d6c6eb57-9772-47f2-9f9e-5d0864289e65",
   "metadata": {},
   "outputs": [],
   "source": [
    "x = 0\n",
    "while x < 3:\n",
    "    print(x)\n",
    "    # missing x += 1 leads to infinite loop because x never changes"
   ]
  },
  {
   "cell_type": "code",
   "execution_count": null,
   "id": "9840a051-e65b-46dc-949f-564cc7d631ee",
   "metadata": {},
   "outputs": [],
   "source": [
    "while True:\n",
    "    response = input(\"Type 'quit' to stop: \")\n",
    "    if response == 'quit':\n",
    "        break"
   ]
  },
  {
   "cell_type": "markdown",
   "id": "fff38b41-7685-41f1-a3a4-fbdc0104b834",
   "metadata": {},
   "source": [
    "### Nested `while` Loops\n",
    "You can also nest `while` loops (a `while` inside another `while`). Each loop needs its own condition and loop-variable. For example:"
   ]
  },
  {
   "cell_type": "code",
   "execution_count": null,
   "id": "c032c5e4-1e3c-4d89-9f36-ddca5a33d6a8",
   "metadata": {},
   "outputs": [],
   "source": [
    "i = 1\n",
    "while i <= 3:            # outer while loop\n",
    "    j = 1\n",
    "    while j <= 2:        # inner while loop\n",
    "        print(i, j)\n",
    "        j += 1\n",
    "    i += 1\n",
    "\n",
    "#This prints pairs (1,1), (1,2), (2,1), (2,2), (3,1), (3,2)."
   ]
  },
  {
   "cell_type": "markdown",
   "id": "43ac9a42-bb42-4ffc-aaba-24046b41a75b",
   "metadata": {},
   "source": [
    "### `while` Loop with `else`\n",
    "Just like `for` loops, a `while` loop can have an `else` clause that executes when the loop condition becomes false (and no `break` was hit). Example:"
   ]
  },
  {
   "cell_type": "code",
   "execution_count": null,
   "id": "a6f717f7-4c9f-40b7-b097-4326fdc69a3f",
   "metadata": {},
   "outputs": [],
   "source": [
    "count = 0\n",
    "while count < 3:\n",
    "    print(count)\n",
    "    count += 1\n",
    "else:\n",
    "    print(\"While loop completed normally\")\n",
    "\n",
    "print()  # blank line"
   ]
  },
  {
   "cell_type": "code",
   "execution_count": null,
   "id": "766f9519-90e1-4309-9cbd-c19cd8437728",
   "metadata": {},
   "outputs": [],
   "source": [
    "count = 0\n",
    "while count < 3:\n",
    "    if count == 1:\n",
    "        break\n",
    "    count += 1\n",
    "else:\n",
    "    print(\"This else will NOT run because loop was broken.\")"
   ]
  },
  {
   "cell_type": "markdown",
   "id": "303e6857-cf13-47f0-994c-9e5b405a3c63",
   "metadata": {},
   "source": [
    "## Common Mistakes and Debugging Tips\n",
    "When learning loops, beginners often encounter a few common pitfalls. Here are some tips to avoid them:\n",
    "\n",
    "* **Off-by-one errors:** This happens when the loop runs one time too many or too few. For example, using `<=` instead of `<` can execute the loop one extra time. Always double-check loop boundaries.\n",
    "* **Forgetting to update loop variables:** In a `while` loop, forgetting to change the loop variable (e.g., missing `i += 1`) will cause an infinite loop. Make sure each loop makes progress toward ending.\n",
    "* **Logical errors in nested loops:** Remember that a `break` only exits the innermost loop. If you need to exit outer loops too, use flags or multiple breaks. Also watch indentation carefully: code inside the loop must be indented correctly.\n",
    "* **Indentation and block issues:** Python groups loop bodies by indentation. Ensure that only the intended lines are indented under the loop; otherwise, some code may not repeat as expected.\n",
    "\n",
    ">Testing loops with small input values (like looping only 2–3 times) can help spot these errors early."
   ]
  },
  {
   "cell_type": "markdown",
   "id": "475aeafa-e9b1-4863-be9d-34315a3beb46",
   "metadata": {},
   "source": [
    "## Practice Exercises\n",
    "Try the following exercises to practice loops. Each exercise includes a sample solution. Feel free to modify and experiment with the code!\n",
    "\n",
    "#### Exercise 1: Sum of List\n",
    "Write a loop to calculate the sum of all numbers in a list. For example, given the list `[3, 7, 1, 9]`, your code should output `20`.\n",
    "---\n",
    "```python\n",
    "numbers = [3, 7, 1, 9]\n",
    "total = 0\n",
    "for num in numbers:        # iterate through each number\n",
    "    total += num          # add current number to total\n",
    "print(\"Sum:\", total)      # prints \"Sum: 20\"\n",
    "```\n",
    "---\n",
    "#### Exercise 2: Reverse a String\n",
    "Use a loop to reverse a given string. For example, if `text = \"hello\"`, the output should be `\"olleh\"`.\n",
    "---\n",
    "```python\n",
    "text = \"hello\"\n",
    "reversed_text = \"\"\n",
    "for char in text:                 # go through each character in the string\n",
    "    reversed_text = char + reversed_text  # prepend the character\n",
    "print(reversed_text)              # prints \"olleh\"\n",
    "```\n",
    "---\n",
    "#### Exercise 3: Multiplication Table\n",
    "Ask the user for a number and print its multiplication table (from 1 to 5). For example, if the user enters `3`, output:\n",
    "---\n",
    "```\n",
    "3 x 1 = 3\n",
    "3 x 2 = 6\n",
    "...\n",
    "3 x 5 = 15\n",
    "```\n",
    "\n",
    "```python\n",
    "num = int(input(\"Enter a number for its multiplication table: \"))\n",
    "for i in range(1, 6):             # loops from 1 to 5\n",
    "    print(f\"{num} x {i} = {num * i}\")\n",
    "```\n",
    "---\n",
    "#### Exercise 4: Guessing Game\n",
    "Write a simple guessing game that picks a secret number and asks the user to guess it. Use a `while` loop to continue until the correct number is guessed. (Hint: you can use `import random` and `random.randint(1, 10)` to pick a secret number.)\n",
    "---\n",
    "```python\n",
    "import random\n",
    "secret = random.randint(1, 10)\n",
    "guess = None\n",
    "while guess != secret:\n",
    "    guess = int(input(\"Guess a number (1-10): \"))\n",
    "    if guess < secret:\n",
    "        print(\"Too low!\")\n",
    "    elif guess > secret:\n",
    "        print(\"Too high!\")\n",
    "    else:\n",
    "        print(\"Correct! The number was\", secret)\n",
    "```\n",
    "---\n",
    "#### Exercise 5: Count Vowels in a String\n",
    "Write a loop that counts how many vowels (`a, e, i, o, u`) are in a user-provided word.text = input(\"Enter a word: \")\n",
    "---\n",
    "```python\n",
    "vowels = 0\n",
    "for char in text:                   \n",
    "    if char.lower() in 'aeiou':     # check if character is a vowel\n",
    "        vowels += 1\n",
    "print(\"Number of vowels:\", vowels)\n",
    "```\n",
    "---\n",
    "#### Exercise 6: Print a Star Pattern\n",
    "Use nested loops to print a right-angled triangle of stars. For example, for `rows = 5`, output:\n",
    "---\n",
    "```\n",
    "*\n",
    "**\n",
    "***\n",
    "****\n",
    "*****\n",
    "```\n",
    "\n",
    "```python\n",
    "rows = 5\n",
    "for i in range(1, rows+1):          # outer loop for each row (1 to 5)\n",
    "    print(\"*\" * i)                 # print i stars on this row\n",
    "```\n",
    "---\n",
    "Each of these examples is self-contained and uses loops to solve a simple problem. Feel free to run and tweak the code in a Jupyter Notebook to see how the loops work in real time. Happy coding!"
   ]
  },
  {
   "cell_type": "code",
   "execution_count": null,
   "id": "cd6c7659-666f-4638-ad87-3b09c0d040e3",
   "metadata": {},
   "outputs": [],
   "source": []
  }
 ],
 "metadata": {
  "kernelspec": {
   "display_name": "Python [conda env:base] *",
   "language": "python",
   "name": "conda-base-py"
  },
  "language_info": {
   "codemirror_mode": {
    "name": "ipython",
    "version": 3
   },
   "file_extension": ".py",
   "mimetype": "text/x-python",
   "name": "python",
   "nbconvert_exporter": "python",
   "pygments_lexer": "ipython3",
   "version": "3.12.7"
  }
 },
 "nbformat": 4,
 "nbformat_minor": 5
}
