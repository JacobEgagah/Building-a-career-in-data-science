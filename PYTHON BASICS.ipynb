{
 "cells": [
  {
   "attachments": {},
   "cell_type": "markdown",
   "id": "a60debcb-944e-4b7e-94a3-e066a550a922",
   "metadata": {},
   "source": [
    "🐍 Introduction to Python\n",
    "Python is a high-level, interpreted, and general-purpose programming language known for its easy-to-read syntax and versatility. It was created by **GUIDO VAN ROSSUM** [Guido van Rossum](https://en.wikipedia.org/wiki/Guido_van_Rossum) and first released in 1991.\n",
    "\n",
    "🧠 **Why Learn Python?**\n",
    "🔹 Easy to learn and read\n",
    "🔹 Supports multiple programming paradigms (procedural, object-oriented, functional)\n",
    "🔹 Huge community and ecosystem\n",
    "🔹 Widely used in data science, web development, automation, AI, and more\n",
    "\n",
    "🔑 **Key Features**\n",
    "Interpreted: No need for compilation.\n",
    "Dynamic typing: No need to declare data types.\n",
    "Large Standard Library: Includes tools and modules for many tasks.\n",
    "Cross-platform: Works on Windows, macOS, and Linux.\n",
    "\n",
    "📷 Creator of Python\n",
    "📷 ![Guido Van Rossum](https://drive.google.com/uc?export=view&id=1MwGMpzF3tKzFsXpaRchEdytBnQIIB1R9)\n",
    "\n",
    "📌 **APPLICATION OF PYTHON**\n",
    "Python is used in a variety of fields and for many different applications, such as:\n",
    "-🔹 **Web Development** (e.g., Django, Flask)\n",
    "-🔹 **Data Science and Machine Learning** (e.g., Pandas, Scikit-learn, TensorFlow)\n",
    "-🔹 **Automation and Scripting**\n",
    "-🔹 **Game Development** (e.g., Pygame)\n",
    "-🔹 **Cybersecurity and Ethical Hacking**\n",
    "-🔹 **Desktop GUI Applications**\n",
    "\n",
    "![Applications of Python](https://www.python.org/static/community_logos/python-powered-h-140x182.png)"
   ]
  },
  {
   "cell_type": "markdown",
   "id": "36829c8f-92be-4b53-a8b2-58680fc1f39d",
   "metadata": {},
   "source": [
    "#Setting Up Python: Anaconda and Google Colab \n",
    "Anaconda is a popular distribution for data science and machine learning. It comes with Python, Jupyter Notebook, VS Code and many other useful packages.\n",
    "\n",
    "Download from: [Anaconda download](https://www.anaconda.com/products/distribution)\n",
    "After installation, open the Anaconda Navigator and launch Jupyter Notebook or VS code.\n",
    "Anaconda Navigator\n",
    "\n",
    "Google Colab is a free cloud-based platform to run Python code without any installation.\n",
    "\n",
    "Visit: [Google Colab](https://colab.research.google.com)\n",
    "Sign in with your Google account and start coding.\n",
    "Google Colab"
   ]
  },
  {
   "cell_type": "markdown",
   "id": "8563d49f-f4a5-4a7f-825c-6dde55bf7301",
   "metadata": {},
   "source": [
    "#🐍🌟**PYTHON VARIABLES**\n",
    "Variables are fundamental building blocks in Python that allows you to store and manipulate data in your programs.\n",
    "\n",
    "## What Is A Variable?🌟\n",
    "You can think of python variables as *\"Labelled Boxes or containers\"* that are used to store your data, Just like you can put fruits in a box and Label the box \"Fruits\", in python you assign a name(label) to hold/store value(data)\n",
    "You can give a variable a name, and inside it, you can store a piece of data like a number, text, or even a lists.\n",
    "\n",
    "The variable is simply a way to label and hold something so you can refer to it later.\n",
    "\n",
    "In Python, it stores information (data) that you might want to use or manipulate later in your code. For example, you might want to store your age, a name, or the price of a product.\n",
    "\n",
    "Key things to remember:\n",
    "\n",
    "A variable can hold different data types (numbers, text, etc.).\n",
    "\n",
    "You can change what's inside the variable, just like how a fruit box/container can be reused to store something else.\n",
    "\n",
    "Variables help make your code easier to read and manage by letting you refer to data with names you choose.\n",
    "\n",
    "## Variable Naming Rules\n",
    "- It must start a letter (a-z, A-Z) or and underscore (_).\n",
    "- It can contain letters, numbers, and underscores.\n",
    "- It cannot be a Python keyword (like \"if, for, while, else etc.)\n",
    "- It is case sensitive (age, AGE and Age are completely different Variables)\n",
    "Good variable namee are descriptive and follow conventions\n",
    "\n",
    "How to Create a Variable?\n",
    "In Python, creating (or defining) a variable is super simple! You just choose a name for your variable and use the = symbol to assign a value to it."
   ]
  },
  {
   "cell_type": "code",
   "execution_count": 1,
   "id": "3bbcf25e-af7d-4268-b450-a0e78ae66bb0",
   "metadata": {},
   "outputs": [
    {
     "name": "stdout",
     "output_type": "stream",
     "text": [
      "30\n"
     ]
    }
   ],
   "source": [
    "#Example\n",
    "#let's create a variable and assign a value to it\n",
    "user_age = 30\n",
    "print(user_age) #this prints the stored value in the variable(user_age)"
   ]
  },
  {
   "cell_type": "markdown",
   "id": "11e8089e-5f90-49de-9abf-806d7e209239",
   "metadata": {},
   "source": [
    "# **BASIC VARIABLE TYPES**\n",
    "***INTRODUCTION TO DATA TYPES***\n",
    "    - Numbers:\n",
    "      -Integers(int): 2025\n",
    "      -Floating Points Numbers(float):25.50\n",
    "    - Strings(str): these are texts represented within '' or \"\" eg. \"Python\"\n",
    "    - Booleans(bool): True or False\n",
    "    - Lists[list]:[1,2,3,4,5]\n",
    "    - Dictionaries{dict}: {\"name\": \"Jacob\", \"Course\": \"Data science\"}\n",
    "    - Absence of value (NoneType): None"
   ]
  },
  {
   "cell_type": "code",
   "execution_count": 5,
   "id": "6ad3a34b-071c-445e-8274-25b5cd69cb37",
   "metadata": {},
   "outputs": [
    {
     "name": "stdout",
     "output_type": "stream",
     "text": [
      "<class 'int'>\n",
      "<class 'str'>\n",
      "<class 'float'>\n",
      "<class 'bool'>\n",
      "<class 'list'>\n",
      "<class 'dict'>\n",
      "<class 'NoneType'>\n"
     ]
    }
   ],
   "source": [
    "#Example \n",
    "year = 2025                                                      #integer\n",
    "month = \"May\"                                                    #string\n",
    "pi_value = 3.142                                                 #float\n",
    "is_active = True                                                 #Boolean\n",
    "fruit = [\"apple\", \"orange\", \"mango\", \"Banana\", \"pineapple\"]      #list\n",
    "music = {\"Artist\": \"Young John\", \"Title\": \"Extra cool\" }         #Dictionary\n",
    "casualties = None                                                #None\n",
    "\n",
    "#We can verify the variable type by using the type() function\n",
    "print(type(year))\n",
    "print(type(month))\n",
    "print(type(pi_value))\n",
    "print(type(is_active))\n",
    "print(type(fruit))\n",
    "print(type(music))\n",
    "print(type(casualties))"
   ]
  },
  {
   "cell_type": "markdown",
   "id": "1a797b40-11b0-4146-8b83-614c25024808",
   "metadata": {},
   "source": [
    ">Note: It is important to note that these variable names can be reused, i.e a new value can be reasigned to the variable.\n",
    "\n",
    "# **PRINT FORMATTING**\n",
    "As we know, if you want to see the output of your code in Python, you have to speak to python in a language that it understands in this case, using the keyword: \"print\" (more on python keywords later).\n",
    "\n",
    "Print formatting refers to the techniques used to format and present this output in a clear and structured way. There are several methods for achieving print formatting, including\n",
    "\n",
    "String concatenation\n",
    "The % operator\n",
    ".format()\n",
    "f-strings (formatted string literals).\n"
   ]
  },
  {
   "cell_type": "code",
   "execution_count": null,
   "id": "03b09e66-793a-476a-ad1a-c730fb64b3ae",
   "metadata": {},
   "outputs": [],
   "source": [
    "# 1. BASIC print() FUNCTION\n",
    "#The simplest way to print:\n",
    "print(\"Hello, Scientists!\")             #Output: Hello, scientists!\n",
    "\n",
    "#This can also print multiple items seperated by commas(Default seperator is space)\n",
    "print(\"Attendance Status:\", \"Hello\", \"Scientists,\", \"we've got\", 100, \"currently engaged in this course!\") #Output: Attendace Status:Hello Scientists, we've got 100 currently engaged in this course!\n",
    "\n",
    "#We can also change the seperator with sep:\n",
    "print(\"12\", \"05\", \"2025\", sep=\"-\")             #Output: 12-05-2025\n",
    "\n",
    "#We can end with a different character (N.B default is a newline /n)\n",
    "print(\"Data scientists\", end=\" \")\n",
    "print(\"Jacob\")                               #Output: Data scientists Jacob\n",
    "\n",
    "# 2. USING commas (,) METHOD\n",
    "#We can also call a variable within a print function u\n",
    "name = \"Jacob E.\"\n",
    "state = \"Abuja\"\n",
    "print(\"Author's Name:\", name, \"Location:\", state) #Output: Author's Name: Jacob E. Location: Abuja\n",
    "\n",
    "# 3. STRING CONCATENATION (+)\n",
    "print(\"Hello\" + \"World!\")      #This only works if all the data types within the print() function are strings \n",
    "#Output: Hello World!\n",
    "\n",
    "\n",
    "# 4. STRING .format() METHOD\n",
    "print(\"The Author of this notebook is {} and I reside in {}.\".format(name, state)) #Output: The Author of this notebook is Jacob E. and I reside in Abuja.\n",
    "\n",
    "#this method also allows us to reorder or repea:\n",
    "print(\"state: {1}, Name:{0}\".format(name, state)) #This reorders the output placing the state in the 1st index and the name in the 2nd index\n",
    "\n",
    "#N.B: arrays starts from 0 instead of 1 as we would expect\n",
    "\n",
    "# 5. f-strings (this is cleaner and supports expressions)\n",
    "age = 26\n",
    "print(f\"My name is {name} I just got transfered to {state} and I already turned {age + 4}years old.\") # OutputMy name is Jacob E. I just got transfered to Abuja and I already turned 30years old.\n",
    "\n",
    "print(\"name\\nage\\nstate\")\n",
    "print(\"name\\tstate\\tage\")"
   ]
  },
  {
   "cell_type": "markdown",
   "id": "b13fa4f2-da12-4efe-8a0b-b51f26a405b6",
   "metadata": {},
   "source": [
    "Excercise 1. \n",
    "1. Explain in detail, and with examples:\n",
    "   - string OLD-STYLE (% Formatting)\n",
    "   - controlling decimal place\n",
    "   - what \\n and \\t does as seen in the last two print statements\n",
    "    \n",
    "2. List all the data types & structure, stating their characteristics and with examples\n",
    "\n",
    "the next step is deigned to welcome you to Advanced Formatting and then Data Types "
   ]
  }
 ],
 "metadata": {
  "kernelspec": {
   "display_name": "Python [conda env:base] *",
   "language": "python",
   "name": "conda-base-py"
  },
  "language_info": {
   "codemirror_mode": {
    "name": "ipython",
    "version": 3
   },
   "file_extension": ".py",
   "mimetype": "text/x-python",
   "name": "python",
   "nbconvert_exporter": "python",
   "pygments_lexer": "ipython3",
   "version": "3.12.7"
  }
 },
 "nbformat": 4,
 "nbformat_minor": 5
}
